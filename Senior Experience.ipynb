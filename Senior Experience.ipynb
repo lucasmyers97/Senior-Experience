{
 "cells": [
  {
   "cell_type": "markdown",
   "metadata": {},
   "source": [
    "Import necessary packages\n",
    "============="
   ]
  },
  {
   "cell_type": "code",
   "execution_count": 1,
   "metadata": {
    "collapsed": false
   },
   "outputs": [],
   "source": [
    "# In case we want to make changes to qclib and reload\n",
    "from importlib import reload\n",
    "\n",
    "# Import basic plotting and number manipulation\n",
    "import numpy as np\n",
    "import matplotlib as plt\n",
    "\n",
    "# This is really just for printing \n",
    "import pandas as pd\n",
    "\n",
    "# Import basic pyQuil programs\n",
    "from pyquil import Program, get_qc\n",
    "from pyquil.gates import *\n",
    "from pyquil.api import WavefunctionSimulator\n",
    "\n",
    "# To make an arbitrary state, need a module from Grove\n",
    "from grove.alpha.arbitrary_state.arbitrary_state import create_arbitrary_state\n",
    "\n",
    "# Also need quantum fourier transform from Grove\n",
    "from grove.qft.fourier import qft\n",
    "\n",
    "# Import personal quantum computing libraries\n",
    "import LowLevelQCAlgorithms as llqca\n",
    "import HighLevelQCAlgorithms as hlqca\n",
    "import QCHelper as qch"
   ]
  },
  {
   "cell_type": "markdown",
   "metadata": {},
   "source": [
    "# Beginning Test of pyquil and qvm"
   ]
  },
  {
   "cell_type": "markdown",
   "metadata": {},
   "source": [
    "* Note that, in separate command windows, you need to run the commands `qvm -S` and `quilc -S`"
   ]
  },
  {
   "cell_type": "code",
   "execution_count": 2,
   "metadata": {
    "collapsed": false
   },
   "outputs": [
    {
     "name": "stdout",
     "output_type": "stream",
     "text": [
      "H 0\n",
      "CNOT 0 1\n",
      "\n"
     ]
    }
   ],
   "source": [
    "program = Program(\n",
    "    H(0),\n",
    "    CNOT(0, 1),\n",
    ")\n",
    "print(program)"
   ]
  },
  {
   "cell_type": "code",
   "execution_count": 3,
   "metadata": {
    "collapsed": false
   },
   "outputs": [
    {
     "name": "stdout",
     "output_type": "stream",
     "text": [
      "(0.7071067812+0j)|00> + (0.7071067812+0j)|11>\n"
     ]
    }
   ],
   "source": [
    "wfn = WavefunctionSimulator().wavefunction(program)\n",
    "print(wfn)"
   ]
  },
  {
   "cell_type": "markdown",
   "metadata": {},
   "source": [
    "# Run Tests For Custom Library Functions"
   ]
  },
  {
   "cell_type": "markdown",
   "metadata": {},
   "source": [
    "### Test out Flip function"
   ]
  },
  {
   "cell_type": "code",
   "execution_count": 5,
   "metadata": {
    "collapsed": false
   },
   "outputs": [
    {
     "name": "stdout",
     "output_type": "stream",
     "text": [
      "The initial state is:\n",
      "(0.5+0j)|00000011110> + (0.5+0j)|00000011111> + (0.5+0j)|00000111110> + (0.5+0j)|00000111111>\n",
      "\n",
      "When we apply Flip, it becomes:\n",
      "(0.5+0j)|00000011110> + (0.5+0j)|00000111110> + (0.5+0j)|01111011111> + (0.5+0j)|11111111111>\n"
     ]
    }
   ],
   "source": [
    "# Define qubit registers\n",
    "a = [0, 1, 2, 3, 4, 5]\n",
    "b = [6, 7, 8, 9, 10]\n",
    "\n",
    "# Generate some superposition of qubits, print result\n",
    "p = Program(H(0), X(1), X(2), X(3), X(4), H(5), I(6), I(7), I(8), I(9), I(10))\n",
    "result = WavefunctionSimulator().wavefunction(p)\n",
    "print('The initial state is:', result, sep='\\n')\n",
    "print()\n",
    "\n",
    "# Do Flip function on qubits, print result\n",
    "p.inst(llqca.Flip(a, b))\n",
    "result = WavefunctionSimulator().wavefunction(p)\n",
    "print('When we apply Flip, it becomes:', result, sep='\\n')"
   ]
  },
  {
   "cell_type": "markdown",
   "metadata": {},
   "source": [
    "#### Results of test\n",
    "* First basis vector has 0 in $a_0$ place, so no change to b's\n",
    "* Second basis vector has all 1's to $a_4$, so $b_0-b_3$ is flipped\n",
    "* Third basis vector has all 1's to $a_5$, so $b_0-b_4$ is flipped\n",
    "\n",
    "Looks like it's working correctly"
   ]
  },
  {
   "cell_type": "markdown",
   "metadata": {},
   "source": [
    "### Test out AndTemp function"
   ]
  },
  {
   "cell_type": "code",
   "execution_count": 6,
   "metadata": {
    "collapsed": false
   },
   "outputs": [
    {
     "name": "stdout",
     "output_type": "stream",
     "text": [
      "The initial state is:\n",
      "(0.5+0j)|00000011110> + (0.5+0j)|00000011111> + (0.5+0j)|00000111110> + (0.5+0j)|00000111111>\n",
      "\n",
      "When we apply AndTemp, it becomes:\n",
      "(0.5+0j)|00000011110> + (0.5+0j)|00000011111> + (0.5+0j)|00000111110> + (0.5+0j)|10000111111>\n"
     ]
    }
   ],
   "source": [
    "# Define qubit registers\n",
    "a = [0, 1, 2, 3, 4, 5]\n",
    "c = [6, 7, 8, 9]\n",
    "b = [10]\n",
    "\n",
    "# Generate some superposition of qubits, print result\n",
    "p = Program(H(0), X(1), X(2), X(3), X(4), H(5), I(6), I(7), I(8), I(9), I(10))\n",
    "result = WavefunctionSimulator().wavefunction(p)\n",
    "print('The initial state is:', result, sep='\\n')\n",
    "print()\n",
    "\n",
    "# Do AndTemp function on qubits, print result\n",
    "p.inst(llqca.AndTemp(a, b, c))\n",
    "result = WavefunctionSimulator().wavefunction(p)\n",
    "print('When we apply AndTemp, it becomes:', result, sep='\\n')"
   ]
  },
  {
   "cell_type": "markdown",
   "metadata": {},
   "source": [
    "#### Results of test\n",
    "* Only last basis vector has all 1's in the a register, so b is flipped in that case\n",
    "* Also, none of the qubits in the c register are modified\n",
    "Thus, it is working properly. "
   ]
  },
  {
   "cell_type": "markdown",
   "metadata": {
    "collapsed": true
   },
   "source": [
    "### Test out And function"
   ]
  },
  {
   "cell_type": "code",
   "execution_count": 7,
   "metadata": {
    "collapsed": false
   },
   "outputs": [
    {
     "name": "stdout",
     "output_type": "stream",
     "text": [
      "The initial state is:\n",
      "(0.5+0j)|00011110> + (0.5+0j)|00011111> + (0.5+0j)|00111110> + (0.5+0j)|00111111>\n",
      "\n",
      "When we apply And, it becomes:\n",
      "(0.5+0j)|00011110> + (0.5+0j)|00011111> + (0.5+0j)|00111110> + (0.5+0j)|01111111>\n"
     ]
    }
   ],
   "source": [
    "# Define qubit registers\n",
    "a = [0, 1, 2, 3, 4, 5]\n",
    "b = [6]\n",
    "t = [7]\n",
    "\n",
    "# Create some superposition of qubits, print results\n",
    "p = Program(H(0), X(1), X(2), X(3), X(4), H(5), I(6), I(7))\n",
    "result = WavefunctionSimulator().wavefunction(p)\n",
    "print('The initial state is:', result, sep='\\n')\n",
    "print()\n",
    "\n",
    "# Apply the And function to the superposition, print results\n",
    "p.inst(llqca.And(a, b, t))\n",
    "result = WavefunctionSimulator().wavefunction(p)\n",
    "print('When we apply And, it becomes:', result, sep='\\n')"
   ]
  },
  {
   "cell_type": "markdown",
   "metadata": {
    "collapsed": false
   },
   "source": [
    "#### Results of test\n",
    "* Qubit b flips only when all the qubits in register a are 1.\n",
    "* Temporary qubit t is unchanged by the operation."
   ]
  },
  {
   "cell_type": "markdown",
   "metadata": {
    "collapsed": true
   },
   "source": [
    "## Test out arbitrary/controlled gate functions\n",
    "* To begin these tests, we first need to have an arbitrary gate that we want to test out.\n",
    "* This can be done by defining an $\\alpha$, $\\beta$, $\\delta$, $\\gamma$ as in Rieffel and Polak:\n",
    "\n",
    "$$\n",
    "\\left(\n",
    "\\begin{matrix}\n",
    "e^{\\bf{i}(\\delta + \\alpha + \\gamma)}\\cos\\beta & e^{\\bf{i}(\\delta + \\alpha - \\gamma)}\\sin\\beta \\\\\n",
    "-e^{\\bf{i}(\\delta - \\alpha + \\gamma)}\\sin\\beta & e^{\\bf{i}(\\delta - \\alpha - \\gamma)}\\cos\\beta\n",
    "\\end{matrix}\n",
    "\\right)\n",
    "$$\n",
    "\n",
    "* This matrix represents the most general type of single-qubit transformation.\n",
    "* Here we pick some arbitrary parameters, calculate what the resulting matrix should look like, generate some transformations using the library, then extract the matrix representing those transformations to test against our original calculation."
   ]
  },
  {
   "cell_type": "code",
   "execution_count": 8,
   "metadata": {
    "collapsed": false
   },
   "outputs": [
    {
     "name": "stdout",
     "output_type": "stream",
     "text": [
      "[[-0.41562694+0.5720614j   0.28760624+0.64597419j]\n",
      " [-0.41562694-0.5720614j   0.70323318-0.07391279j]]\n"
     ]
    }
   ],
   "source": [
    "# Define the arbitrary transformation\n",
    "Q = {'delta': np.pi/3, 'alpha': np.pi/5, 'beta': np.pi/4, 'gamma': np.pi/6}\n",
    "\n",
    "# Calculate what the matrix representation of this transformation should look like\n",
    "print(qch.arbitraryGate(Q))"
   ]
  },
  {
   "cell_type": "markdown",
   "metadata": {},
   "source": [
    "### Arbitrary Gate Function"
   ]
  },
  {
   "cell_type": "code",
   "execution_count": 9,
   "metadata": {
    "collapsed": false
   },
   "outputs": [
    {
     "data": {
      "text/plain": [
       "array([[-0.41562694+0.5720614j ,  0.28760624+0.64597419j],\n",
       "       [-0.41562694-0.5720614j ,  0.70323318-0.07391279j]])"
      ]
     },
     "execution_count": 9,
     "metadata": {},
     "output_type": "execute_result"
    }
   ],
   "source": [
    "# Define target qubit, gate transformation\n",
    "t = [0]\n",
    "Q = {'delta': np.pi/3, 'alpha': np.pi/5, 'beta': np.pi/4, 'gamma': np.pi/6}\n",
    "n_qubits = 1\n",
    "\n",
    "# Apply transformation to qubit, print result\n",
    "p = Program()\n",
    "p.inst( llqca.arbitraryGate(Q, t) )\n",
    "\n",
    "# Get matrix representing transformation\n",
    "qch.getMatFromProgram(n_qubits, p)"
   ]
  },
  {
   "cell_type": "markdown",
   "metadata": {},
   "source": [
    "#### Results of test\n",
    "* Looks like our matrix transform matches what is expected"
   ]
  },
  {
   "cell_type": "markdown",
   "metadata": {},
   "source": [
    "### Controlled Gate Function\n",
    "$\\newcommand{\\ket}[1]{\\left|{#1}\\right\\rangle}$\n",
    "* Here we want our single qubit transformation to end up in the upper right hand corner of the matrix.\n",
    "* That is, we want to send $\\ket{00} \\to a\\ket{00} + b\\ket{01}$ and $\\ket{01} \\to c\\ket{00} + d\\ket{01}$ (and everything else to 0).\n",
    "* This is just for ease of reading that we got the correct thing.\n",
    "* We do this by making our target qubit qubit 0, and flipping the control qubit at the beginning, and again at the end."
   ]
  },
  {
   "cell_type": "code",
   "execution_count": 10,
   "metadata": {
    "collapsed": false
   },
   "outputs": [
    {
     "data": {
      "text/html": [
       "<div>\n",
       "<table border=\"1\" class=\"dataframe\">\n",
       "  <thead>\n",
       "    <tr style=\"text-align: right;\">\n",
       "      <th></th>\n",
       "      <th>0</th>\n",
       "      <th>1</th>\n",
       "      <th>2</th>\n",
       "      <th>3</th>\n",
       "    </tr>\n",
       "  </thead>\n",
       "  <tbody>\n",
       "    <tr>\n",
       "      <th>0</th>\n",
       "      <td>(-0.4156269377774533+0.5720614028176844j)</td>\n",
       "      <td>(0.2876062384759507+0.645974188021251j)</td>\n",
       "      <td>0j</td>\n",
       "      <td>0j</td>\n",
       "    </tr>\n",
       "    <tr>\n",
       "      <th>1</th>\n",
       "      <td>(-0.4156269377774536-0.5720614028176843j)</td>\n",
       "      <td>(0.703233176253404-0.07391278520356664j)</td>\n",
       "      <td>0j</td>\n",
       "      <td>0j</td>\n",
       "    </tr>\n",
       "    <tr>\n",
       "      <th>2</th>\n",
       "      <td>0j</td>\n",
       "      <td>0j</td>\n",
       "      <td>(1+1.1102230246251565e-16j)</td>\n",
       "      <td>(-1.6314318015755256e-17+2.2454732361702685e-17j)</td>\n",
       "    </tr>\n",
       "    <tr>\n",
       "      <th>3</th>\n",
       "      <td>0j</td>\n",
       "      <td>0j</td>\n",
       "      <td>(1.6314318015755256e-17+2.2454732361702685e-17j)</td>\n",
       "      <td>(1-5.551115123125783e-17j)</td>\n",
       "    </tr>\n",
       "  </tbody>\n",
       "</table>\n",
       "</div>"
      ],
      "text/plain": [
       "                                           0  \\\n",
       "0  (-0.4156269377774533+0.5720614028176844j)   \n",
       "1  (-0.4156269377774536-0.5720614028176843j)   \n",
       "2                                         0j   \n",
       "3                                         0j   \n",
       "\n",
       "                                          1  \\\n",
       "0   (0.2876062384759507+0.645974188021251j)   \n",
       "1  (0.703233176253404-0.07391278520356664j)   \n",
       "2                                        0j   \n",
       "3                                        0j   \n",
       "\n",
       "                                                  2  \\\n",
       "0                                                0j   \n",
       "1                                                0j   \n",
       "2                       (1+1.1102230246251565e-16j)   \n",
       "3  (1.6314318015755256e-17+2.2454732361702685e-17j)   \n",
       "\n",
       "                                                   3  \n",
       "0                                                 0j  \n",
       "1                                                 0j  \n",
       "2  (-1.6314318015755256e-17+2.2454732361702685e-17j)  \n",
       "3                         (1-5.551115123125783e-17j)  "
      ]
     },
     "execution_count": 10,
     "metadata": {},
     "output_type": "execute_result"
    }
   ],
   "source": [
    "# Define control and target qubit\n",
    "c = 1\n",
    "t = 0\n",
    "\n",
    "# Flip control qubit\n",
    "p = Program(X(c))\n",
    "\n",
    "# Apply controlled gate to superposition\n",
    "p.inst( llqca.controlGate([c], [t], Q) )\n",
    "\n",
    "# Flip control qubit again\n",
    "p.inst( Program(X(c)) )\n",
    "\n",
    "# Get matrix corresponding to controlled gate\n",
    "pd.DataFrame(qch.getMatFromProgram(2, p))"
   ]
  },
  {
   "cell_type": "markdown",
   "metadata": {},
   "source": [
    "#### Results of test\n",
    "* Looks like we get the right matrix (upper right quadrant of the matrix corresponds to our originally predicted arbitrary matrix)."
   ]
  },
  {
   "cell_type": "markdown",
   "metadata": {},
   "source": [
    "### Test k-controlled gate function\n",
    "* Again we want the actual submatrix representing the arbitrary one-qubit transformation to be in the upper left hand corner.\n",
    "* That is, we want to send $\\ket{0...00} \\to a\\ket{0...00} + b\\ket{0...01}$ and $\\ket{0...01} \\to c\\ket{0...00} + d\\ket{0...01}$ (and everything else to 0).\n",
    "* To do this, the target qubit needs to be qubit 0, and the control bit sequence needs to be 00...0"
   ]
  },
  {
   "cell_type": "code",
   "execution_count": 11,
   "metadata": {
    "collapsed": false,
    "scrolled": true
   },
   "outputs": [
    {
     "data": {
      "text/html": [
       "<div>\n",
       "<table border=\"1\" class=\"dataframe\">\n",
       "  <thead>\n",
       "    <tr style=\"text-align: right;\">\n",
       "      <th></th>\n",
       "      <th>0</th>\n",
       "      <th>1</th>\n",
       "      <th>2</th>\n",
       "      <th>3</th>\n",
       "      <th>4</th>\n",
       "      <th>5</th>\n",
       "      <th>6</th>\n",
       "      <th>7</th>\n",
       "      <th>8</th>\n",
       "      <th>9</th>\n",
       "      <th>10</th>\n",
       "      <th>11</th>\n",
       "      <th>12</th>\n",
       "      <th>13</th>\n",
       "      <th>14</th>\n",
       "      <th>15</th>\n",
       "    </tr>\n",
       "  </thead>\n",
       "  <tbody>\n",
       "    <tr>\n",
       "      <th>0</th>\n",
       "      <td>(-0.4156269377774533+0.5720614028176844j)</td>\n",
       "      <td>(0.2876062384759507+0.645974188021251j)</td>\n",
       "      <td>0j</td>\n",
       "      <td>0j</td>\n",
       "      <td>0j</td>\n",
       "      <td>0j</td>\n",
       "      <td>0j</td>\n",
       "      <td>0j</td>\n",
       "      <td>0j</td>\n",
       "      <td>0j</td>\n",
       "      <td>0j</td>\n",
       "      <td>0j</td>\n",
       "      <td>0j</td>\n",
       "      <td>0j</td>\n",
       "      <td>0j</td>\n",
       "      <td>0j</td>\n",
       "    </tr>\n",
       "    <tr>\n",
       "      <th>1</th>\n",
       "      <td>(-0.4156269377774536-0.5720614028176843j)</td>\n",
       "      <td>(0.703233176253404-0.07391278520356664j)</td>\n",
       "      <td>0j</td>\n",
       "      <td>0j</td>\n",
       "      <td>0j</td>\n",
       "      <td>0j</td>\n",
       "      <td>0j</td>\n",
       "      <td>0j</td>\n",
       "      <td>0j</td>\n",
       "      <td>0j</td>\n",
       "      <td>0j</td>\n",
       "      <td>0j</td>\n",
       "      <td>0j</td>\n",
       "      <td>0j</td>\n",
       "      <td>0j</td>\n",
       "      <td>0j</td>\n",
       "    </tr>\n",
       "    <tr>\n",
       "      <th>2</th>\n",
       "      <td>0j</td>\n",
       "      <td>0j</td>\n",
       "      <td>(1+1.1102230246251565e-16j)</td>\n",
       "      <td>(-1.6314318015755256e-17+2.2454732361702685e-17j)</td>\n",
       "      <td>0j</td>\n",
       "      <td>0j</td>\n",
       "      <td>0j</td>\n",
       "      <td>0j</td>\n",
       "      <td>0j</td>\n",
       "      <td>0j</td>\n",
       "      <td>0j</td>\n",
       "      <td>0j</td>\n",
       "      <td>0j</td>\n",
       "      <td>0j</td>\n",
       "      <td>0j</td>\n",
       "      <td>0j</td>\n",
       "    </tr>\n",
       "    <tr>\n",
       "      <th>3</th>\n",
       "      <td>0j</td>\n",
       "      <td>0j</td>\n",
       "      <td>(1.6314318015755256e-17+2.2454732361702685e-17j)</td>\n",
       "      <td>(1-5.551115123125783e-17j)</td>\n",
       "      <td>0j</td>\n",
       "      <td>0j</td>\n",
       "      <td>0j</td>\n",
       "      <td>0j</td>\n",
       "      <td>0j</td>\n",
       "      <td>0j</td>\n",
       "      <td>0j</td>\n",
       "      <td>0j</td>\n",
       "      <td>0j</td>\n",
       "      <td>0j</td>\n",
       "      <td>0j</td>\n",
       "      <td>0j</td>\n",
       "    </tr>\n",
       "    <tr>\n",
       "      <th>4</th>\n",
       "      <td>0j</td>\n",
       "      <td>0j</td>\n",
       "      <td>0j</td>\n",
       "      <td>0j</td>\n",
       "      <td>(1+1.1102230246251565e-16j)</td>\n",
       "      <td>(-1.6314318015755256e-17+2.2454732361702685e-17j)</td>\n",
       "      <td>0j</td>\n",
       "      <td>0j</td>\n",
       "      <td>0j</td>\n",
       "      <td>0j</td>\n",
       "      <td>0j</td>\n",
       "      <td>0j</td>\n",
       "      <td>0j</td>\n",
       "      <td>0j</td>\n",
       "      <td>0j</td>\n",
       "      <td>0j</td>\n",
       "    </tr>\n",
       "    <tr>\n",
       "      <th>5</th>\n",
       "      <td>0j</td>\n",
       "      <td>0j</td>\n",
       "      <td>0j</td>\n",
       "      <td>0j</td>\n",
       "      <td>(1.6314318015755256e-17+2.2454732361702685e-17j)</td>\n",
       "      <td>(1-5.551115123125783e-17j)</td>\n",
       "      <td>0j</td>\n",
       "      <td>0j</td>\n",
       "      <td>0j</td>\n",
       "      <td>0j</td>\n",
       "      <td>0j</td>\n",
       "      <td>0j</td>\n",
       "      <td>0j</td>\n",
       "      <td>0j</td>\n",
       "      <td>0j</td>\n",
       "      <td>0j</td>\n",
       "    </tr>\n",
       "    <tr>\n",
       "      <th>6</th>\n",
       "      <td>0j</td>\n",
       "      <td>0j</td>\n",
       "      <td>0j</td>\n",
       "      <td>0j</td>\n",
       "      <td>0j</td>\n",
       "      <td>0j</td>\n",
       "      <td>(1+1.1102230246251565e-16j)</td>\n",
       "      <td>(-1.6314318015755256e-17+2.2454732361702685e-17j)</td>\n",
       "      <td>0j</td>\n",
       "      <td>0j</td>\n",
       "      <td>0j</td>\n",
       "      <td>0j</td>\n",
       "      <td>0j</td>\n",
       "      <td>0j</td>\n",
       "      <td>0j</td>\n",
       "      <td>0j</td>\n",
       "    </tr>\n",
       "    <tr>\n",
       "      <th>7</th>\n",
       "      <td>0j</td>\n",
       "      <td>0j</td>\n",
       "      <td>0j</td>\n",
       "      <td>0j</td>\n",
       "      <td>0j</td>\n",
       "      <td>0j</td>\n",
       "      <td>(1.6314318015755256e-17+2.2454732361702685e-17j)</td>\n",
       "      <td>(1-5.551115123125783e-17j)</td>\n",
       "      <td>0j</td>\n",
       "      <td>0j</td>\n",
       "      <td>0j</td>\n",
       "      <td>0j</td>\n",
       "      <td>0j</td>\n",
       "      <td>0j</td>\n",
       "      <td>0j</td>\n",
       "      <td>0j</td>\n",
       "    </tr>\n",
       "    <tr>\n",
       "      <th>8</th>\n",
       "      <td>0j</td>\n",
       "      <td>0j</td>\n",
       "      <td>0j</td>\n",
       "      <td>0j</td>\n",
       "      <td>0j</td>\n",
       "      <td>0j</td>\n",
       "      <td>0j</td>\n",
       "      <td>0j</td>\n",
       "      <td>(1+1.1102230246251565e-16j)</td>\n",
       "      <td>(-1.6314318015755256e-17+2.2454732361702685e-17j)</td>\n",
       "      <td>0j</td>\n",
       "      <td>0j</td>\n",
       "      <td>0j</td>\n",
       "      <td>0j</td>\n",
       "      <td>0j</td>\n",
       "      <td>0j</td>\n",
       "    </tr>\n",
       "    <tr>\n",
       "      <th>9</th>\n",
       "      <td>0j</td>\n",
       "      <td>0j</td>\n",
       "      <td>0j</td>\n",
       "      <td>0j</td>\n",
       "      <td>0j</td>\n",
       "      <td>0j</td>\n",
       "      <td>0j</td>\n",
       "      <td>0j</td>\n",
       "      <td>(1.6314318015755256e-17+2.2454732361702685e-17j)</td>\n",
       "      <td>(1-5.551115123125783e-17j)</td>\n",
       "      <td>0j</td>\n",
       "      <td>0j</td>\n",
       "      <td>0j</td>\n",
       "      <td>0j</td>\n",
       "      <td>0j</td>\n",
       "      <td>0j</td>\n",
       "    </tr>\n",
       "    <tr>\n",
       "      <th>10</th>\n",
       "      <td>0j</td>\n",
       "      <td>0j</td>\n",
       "      <td>0j</td>\n",
       "      <td>0j</td>\n",
       "      <td>0j</td>\n",
       "      <td>0j</td>\n",
       "      <td>0j</td>\n",
       "      <td>0j</td>\n",
       "      <td>0j</td>\n",
       "      <td>0j</td>\n",
       "      <td>(1+1.1102230246251565e-16j)</td>\n",
       "      <td>(-1.6314318015755256e-17+2.2454732361702685e-17j)</td>\n",
       "      <td>0j</td>\n",
       "      <td>0j</td>\n",
       "      <td>0j</td>\n",
       "      <td>0j</td>\n",
       "    </tr>\n",
       "    <tr>\n",
       "      <th>11</th>\n",
       "      <td>0j</td>\n",
       "      <td>0j</td>\n",
       "      <td>0j</td>\n",
       "      <td>0j</td>\n",
       "      <td>0j</td>\n",
       "      <td>0j</td>\n",
       "      <td>0j</td>\n",
       "      <td>0j</td>\n",
       "      <td>0j</td>\n",
       "      <td>0j</td>\n",
       "      <td>(1.6314318015755256e-17+2.2454732361702685e-17j)</td>\n",
       "      <td>(1-5.551115123125783e-17j)</td>\n",
       "      <td>0j</td>\n",
       "      <td>0j</td>\n",
       "      <td>0j</td>\n",
       "      <td>0j</td>\n",
       "    </tr>\n",
       "    <tr>\n",
       "      <th>12</th>\n",
       "      <td>0j</td>\n",
       "      <td>0j</td>\n",
       "      <td>0j</td>\n",
       "      <td>0j</td>\n",
       "      <td>0j</td>\n",
       "      <td>0j</td>\n",
       "      <td>0j</td>\n",
       "      <td>0j</td>\n",
       "      <td>0j</td>\n",
       "      <td>0j</td>\n",
       "      <td>0j</td>\n",
       "      <td>0j</td>\n",
       "      <td>(1+1.1102230246251565e-16j)</td>\n",
       "      <td>(-1.6314318015755256e-17+2.2454732361702685e-17j)</td>\n",
       "      <td>0j</td>\n",
       "      <td>0j</td>\n",
       "    </tr>\n",
       "    <tr>\n",
       "      <th>13</th>\n",
       "      <td>0j</td>\n",
       "      <td>0j</td>\n",
       "      <td>0j</td>\n",
       "      <td>0j</td>\n",
       "      <td>0j</td>\n",
       "      <td>0j</td>\n",
       "      <td>0j</td>\n",
       "      <td>0j</td>\n",
       "      <td>0j</td>\n",
       "      <td>0j</td>\n",
       "      <td>0j</td>\n",
       "      <td>0j</td>\n",
       "      <td>(1.6314318015755256e-17+2.2454732361702685e-17j)</td>\n",
       "      <td>(1-5.551115123125783e-17j)</td>\n",
       "      <td>0j</td>\n",
       "      <td>0j</td>\n",
       "    </tr>\n",
       "    <tr>\n",
       "      <th>14</th>\n",
       "      <td>0j</td>\n",
       "      <td>0j</td>\n",
       "      <td>0j</td>\n",
       "      <td>0j</td>\n",
       "      <td>0j</td>\n",
       "      <td>0j</td>\n",
       "      <td>0j</td>\n",
       "      <td>0j</td>\n",
       "      <td>0j</td>\n",
       "      <td>0j</td>\n",
       "      <td>0j</td>\n",
       "      <td>0j</td>\n",
       "      <td>0j</td>\n",
       "      <td>0j</td>\n",
       "      <td>(1+1.1102230246251565e-16j)</td>\n",
       "      <td>(-1.6314318015755256e-17+2.2454732361702685e-17j)</td>\n",
       "    </tr>\n",
       "    <tr>\n",
       "      <th>15</th>\n",
       "      <td>0j</td>\n",
       "      <td>0j</td>\n",
       "      <td>0j</td>\n",
       "      <td>0j</td>\n",
       "      <td>0j</td>\n",
       "      <td>0j</td>\n",
       "      <td>0j</td>\n",
       "      <td>0j</td>\n",
       "      <td>0j</td>\n",
       "      <td>0j</td>\n",
       "      <td>0j</td>\n",
       "      <td>0j</td>\n",
       "      <td>0j</td>\n",
       "      <td>0j</td>\n",
       "      <td>(1.6314318015755256e-17+2.2454732361702685e-17j)</td>\n",
       "      <td>(1-5.551115123125783e-17j)</td>\n",
       "    </tr>\n",
       "  </tbody>\n",
       "</table>\n",
       "</div>"
      ],
      "text/plain": [
       "                                           0   \\\n",
       "0   (-0.4156269377774533+0.5720614028176844j)   \n",
       "1   (-0.4156269377774536-0.5720614028176843j)   \n",
       "2                                          0j   \n",
       "3                                          0j   \n",
       "4                                          0j   \n",
       "5                                          0j   \n",
       "6                                          0j   \n",
       "7                                          0j   \n",
       "8                                          0j   \n",
       "9                                          0j   \n",
       "10                                         0j   \n",
       "11                                         0j   \n",
       "12                                         0j   \n",
       "13                                         0j   \n",
       "14                                         0j   \n",
       "15                                         0j   \n",
       "\n",
       "                                          1   \\\n",
       "0    (0.2876062384759507+0.645974188021251j)   \n",
       "1   (0.703233176253404-0.07391278520356664j)   \n",
       "2                                         0j   \n",
       "3                                         0j   \n",
       "4                                         0j   \n",
       "5                                         0j   \n",
       "6                                         0j   \n",
       "7                                         0j   \n",
       "8                                         0j   \n",
       "9                                         0j   \n",
       "10                                        0j   \n",
       "11                                        0j   \n",
       "12                                        0j   \n",
       "13                                        0j   \n",
       "14                                        0j   \n",
       "15                                        0j   \n",
       "\n",
       "                                                  2   \\\n",
       "0                                                 0j   \n",
       "1                                                 0j   \n",
       "2                        (1+1.1102230246251565e-16j)   \n",
       "3   (1.6314318015755256e-17+2.2454732361702685e-17j)   \n",
       "4                                                 0j   \n",
       "5                                                 0j   \n",
       "6                                                 0j   \n",
       "7                                                 0j   \n",
       "8                                                 0j   \n",
       "9                                                 0j   \n",
       "10                                                0j   \n",
       "11                                                0j   \n",
       "12                                                0j   \n",
       "13                                                0j   \n",
       "14                                                0j   \n",
       "15                                                0j   \n",
       "\n",
       "                                                   3   \\\n",
       "0                                                  0j   \n",
       "1                                                  0j   \n",
       "2   (-1.6314318015755256e-17+2.2454732361702685e-17j)   \n",
       "3                          (1-5.551115123125783e-17j)   \n",
       "4                                                  0j   \n",
       "5                                                  0j   \n",
       "6                                                  0j   \n",
       "7                                                  0j   \n",
       "8                                                  0j   \n",
       "9                                                  0j   \n",
       "10                                                 0j   \n",
       "11                                                 0j   \n",
       "12                                                 0j   \n",
       "13                                                 0j   \n",
       "14                                                 0j   \n",
       "15                                                 0j   \n",
       "\n",
       "                                                  4   \\\n",
       "0                                                 0j   \n",
       "1                                                 0j   \n",
       "2                                                 0j   \n",
       "3                                                 0j   \n",
       "4                        (1+1.1102230246251565e-16j)   \n",
       "5   (1.6314318015755256e-17+2.2454732361702685e-17j)   \n",
       "6                                                 0j   \n",
       "7                                                 0j   \n",
       "8                                                 0j   \n",
       "9                                                 0j   \n",
       "10                                                0j   \n",
       "11                                                0j   \n",
       "12                                                0j   \n",
       "13                                                0j   \n",
       "14                                                0j   \n",
       "15                                                0j   \n",
       "\n",
       "                                                   5   \\\n",
       "0                                                  0j   \n",
       "1                                                  0j   \n",
       "2                                                  0j   \n",
       "3                                                  0j   \n",
       "4   (-1.6314318015755256e-17+2.2454732361702685e-17j)   \n",
       "5                          (1-5.551115123125783e-17j)   \n",
       "6                                                  0j   \n",
       "7                                                  0j   \n",
       "8                                                  0j   \n",
       "9                                                  0j   \n",
       "10                                                 0j   \n",
       "11                                                 0j   \n",
       "12                                                 0j   \n",
       "13                                                 0j   \n",
       "14                                                 0j   \n",
       "15                                                 0j   \n",
       "\n",
       "                                                  6   \\\n",
       "0                                                 0j   \n",
       "1                                                 0j   \n",
       "2                                                 0j   \n",
       "3                                                 0j   \n",
       "4                                                 0j   \n",
       "5                                                 0j   \n",
       "6                        (1+1.1102230246251565e-16j)   \n",
       "7   (1.6314318015755256e-17+2.2454732361702685e-17j)   \n",
       "8                                                 0j   \n",
       "9                                                 0j   \n",
       "10                                                0j   \n",
       "11                                                0j   \n",
       "12                                                0j   \n",
       "13                                                0j   \n",
       "14                                                0j   \n",
       "15                                                0j   \n",
       "\n",
       "                                                   7   \\\n",
       "0                                                  0j   \n",
       "1                                                  0j   \n",
       "2                                                  0j   \n",
       "3                                                  0j   \n",
       "4                                                  0j   \n",
       "5                                                  0j   \n",
       "6   (-1.6314318015755256e-17+2.2454732361702685e-17j)   \n",
       "7                          (1-5.551115123125783e-17j)   \n",
       "8                                                  0j   \n",
       "9                                                  0j   \n",
       "10                                                 0j   \n",
       "11                                                 0j   \n",
       "12                                                 0j   \n",
       "13                                                 0j   \n",
       "14                                                 0j   \n",
       "15                                                 0j   \n",
       "\n",
       "                                                  8   \\\n",
       "0                                                 0j   \n",
       "1                                                 0j   \n",
       "2                                                 0j   \n",
       "3                                                 0j   \n",
       "4                                                 0j   \n",
       "5                                                 0j   \n",
       "6                                                 0j   \n",
       "7                                                 0j   \n",
       "8                        (1+1.1102230246251565e-16j)   \n",
       "9   (1.6314318015755256e-17+2.2454732361702685e-17j)   \n",
       "10                                                0j   \n",
       "11                                                0j   \n",
       "12                                                0j   \n",
       "13                                                0j   \n",
       "14                                                0j   \n",
       "15                                                0j   \n",
       "\n",
       "                                                   9   \\\n",
       "0                                                  0j   \n",
       "1                                                  0j   \n",
       "2                                                  0j   \n",
       "3                                                  0j   \n",
       "4                                                  0j   \n",
       "5                                                  0j   \n",
       "6                                                  0j   \n",
       "7                                                  0j   \n",
       "8   (-1.6314318015755256e-17+2.2454732361702685e-17j)   \n",
       "9                          (1-5.551115123125783e-17j)   \n",
       "10                                                 0j   \n",
       "11                                                 0j   \n",
       "12                                                 0j   \n",
       "13                                                 0j   \n",
       "14                                                 0j   \n",
       "15                                                 0j   \n",
       "\n",
       "                                                  10  \\\n",
       "0                                                 0j   \n",
       "1                                                 0j   \n",
       "2                                                 0j   \n",
       "3                                                 0j   \n",
       "4                                                 0j   \n",
       "5                                                 0j   \n",
       "6                                                 0j   \n",
       "7                                                 0j   \n",
       "8                                                 0j   \n",
       "9                                                 0j   \n",
       "10                       (1+1.1102230246251565e-16j)   \n",
       "11  (1.6314318015755256e-17+2.2454732361702685e-17j)   \n",
       "12                                                0j   \n",
       "13                                                0j   \n",
       "14                                                0j   \n",
       "15                                                0j   \n",
       "\n",
       "                                                   11  \\\n",
       "0                                                  0j   \n",
       "1                                                  0j   \n",
       "2                                                  0j   \n",
       "3                                                  0j   \n",
       "4                                                  0j   \n",
       "5                                                  0j   \n",
       "6                                                  0j   \n",
       "7                                                  0j   \n",
       "8                                                  0j   \n",
       "9                                                  0j   \n",
       "10  (-1.6314318015755256e-17+2.2454732361702685e-17j)   \n",
       "11                         (1-5.551115123125783e-17j)   \n",
       "12                                                 0j   \n",
       "13                                                 0j   \n",
       "14                                                 0j   \n",
       "15                                                 0j   \n",
       "\n",
       "                                                  12  \\\n",
       "0                                                 0j   \n",
       "1                                                 0j   \n",
       "2                                                 0j   \n",
       "3                                                 0j   \n",
       "4                                                 0j   \n",
       "5                                                 0j   \n",
       "6                                                 0j   \n",
       "7                                                 0j   \n",
       "8                                                 0j   \n",
       "9                                                 0j   \n",
       "10                                                0j   \n",
       "11                                                0j   \n",
       "12                       (1+1.1102230246251565e-16j)   \n",
       "13  (1.6314318015755256e-17+2.2454732361702685e-17j)   \n",
       "14                                                0j   \n",
       "15                                                0j   \n",
       "\n",
       "                                                   13  \\\n",
       "0                                                  0j   \n",
       "1                                                  0j   \n",
       "2                                                  0j   \n",
       "3                                                  0j   \n",
       "4                                                  0j   \n",
       "5                                                  0j   \n",
       "6                                                  0j   \n",
       "7                                                  0j   \n",
       "8                                                  0j   \n",
       "9                                                  0j   \n",
       "10                                                 0j   \n",
       "11                                                 0j   \n",
       "12  (-1.6314318015755256e-17+2.2454732361702685e-17j)   \n",
       "13                         (1-5.551115123125783e-17j)   \n",
       "14                                                 0j   \n",
       "15                                                 0j   \n",
       "\n",
       "                                                  14  \\\n",
       "0                                                 0j   \n",
       "1                                                 0j   \n",
       "2                                                 0j   \n",
       "3                                                 0j   \n",
       "4                                                 0j   \n",
       "5                                                 0j   \n",
       "6                                                 0j   \n",
       "7                                                 0j   \n",
       "8                                                 0j   \n",
       "9                                                 0j   \n",
       "10                                                0j   \n",
       "11                                                0j   \n",
       "12                                                0j   \n",
       "13                                                0j   \n",
       "14                       (1+1.1102230246251565e-16j)   \n",
       "15  (1.6314318015755256e-17+2.2454732361702685e-17j)   \n",
       "\n",
       "                                                   15  \n",
       "0                                                  0j  \n",
       "1                                                  0j  \n",
       "2                                                  0j  \n",
       "3                                                  0j  \n",
       "4                                                  0j  \n",
       "5                                                  0j  \n",
       "6                                                  0j  \n",
       "7                                                  0j  \n",
       "8                                                  0j  \n",
       "9                                                  0j  \n",
       "10                                                 0j  \n",
       "11                                                 0j  \n",
       "12                                                 0j  \n",
       "13                                                 0j  \n",
       "14  (-1.6314318015755256e-17+2.2454732361702685e-17j)  \n",
       "15                         (1-5.551115123125783e-17j)  "
      ]
     },
     "execution_count": 11,
     "metadata": {},
     "output_type": "execute_result"
    }
   ],
   "source": [
    "# Define control bit sequence, with second array indicating whether to use Q or XQX\n",
    "z = [[0, 0, 0], [0]]\n",
    "\n",
    "# Define qubit registers\n",
    "a = [1, 2, 3]\n",
    "b = [0]\n",
    "t = [[4], [5]]\n",
    "\n",
    "p = Program()\n",
    "\n",
    "# Apply k-qubit control gate to superposition\n",
    "p.inst( llqca.kControlGate(z, Q, a, b, t) )\n",
    "\n",
    "# Get matrix corresponding to controlled gate\n",
    "pd.DataFrame(qch.getMatFromProgram(4, p))"
   ]
  },
  {
   "cell_type": "markdown",
   "metadata": {},
   "source": [
    "#### Test results\n",
    "* Again, the upper-left matrix matches our predicted one: Thus, our function works properly."
   ]
  },
  {
   "cell_type": "markdown",
   "metadata": {},
   "source": [
    "## Test getControlStrings function"
   ]
  },
  {
   "cell_type": "code",
   "execution_count": 12,
   "metadata": {
    "collapsed": false
   },
   "outputs": [
    {
     "name": "stdout",
     "output_type": "stream",
     "text": [
      "binary representation of 5 is 101\n",
      "binary representation of 4 is 100\n"
     ]
    }
   ],
   "source": [
    "n_qubits = 3\n",
    "zero_string = 5\n",
    "one_string = 4\n",
    "print(\"binary representation of\", str(zero_string), \"is\", np.binary_repr(zero_string, width=n_qubits))\n",
    "print(\"binary representation of\", str(one_string), \"is\", np.binary_repr(one_string, width=n_qubits))"
   ]
  },
  {
   "cell_type": "code",
   "execution_count": 13,
   "metadata": {
    "collapsed": false
   },
   "outputs": [
    {
     "name": "stdout",
     "output_type": "stream",
     "text": [
      "control register is: [1, 2]\n",
      "target register is: [0]\n",
      "control string is: [[0, 1], [1]]\n"
     ]
    }
   ],
   "source": [
    "a, b, z = hlqca.getControlStrings(zero_string, one_string, n_qubits)\n",
    "print(\"control register is:\", a)\n",
    "print(\"target register is:\", b)\n",
    "print(\"control string is:\", z)"
   ]
  },
  {
   "cell_type": "markdown",
   "metadata": {},
   "source": [
    "#### Result of Test\n",
    "* We see above that the binary representations of 5 and 4 differ in one place.\n",
    "* Additionally, that place is the 0 place, meaning the 1, 2 places are the control places.\n",
    "* Additionally, the zero string has a 1 in the target place, so we should apply XQX.\n",
    "* The control strings returned by `getControlStrings` reflects exactly these facts."
   ]
  },
  {
   "cell_type": "markdown",
   "metadata": {},
   "source": [
    "# Creating an arbitrary n-qubit transformation"
   ]
  },
  {
   "cell_type": "markdown",
   "metadata": {},
   "source": [
    "### Generating $W_m$\n",
    "* The scheme here is to iteratively take the two last basis states, cancel out their complex phases, then transfer all of the amplitude from the last basis state to the second to last basis state, effectively eliminating the last basis state.\n",
    "* If we continue to do this, we'll end up with all of the amplitude in $x_m$\n",
    "* To do this, we first need to extract all of the complex phases, and do a global phase shift so the last vector has no phase.\n",
    "* Then we generate the amplitudes that each of the basis vectors will have _on the iteration when they are the last basis vector_.\n",
    "* Then we need to get a list of binary numbers in the standard gray code ordering -- these are the basis vectors which will correspond to the input amplitudes.\n",
    "* Then we write our program, which consists of a global phase shift, then several controlled phase shifts and rotations to cancel off all of the basis vector amplitudes as stated before."
   ]
  },
  {
   "cell_type": "code",
   "execution_count": 14,
   "metadata": {
    "collapsed": false
   },
   "outputs": [
    {
     "name": "stdout",
     "output_type": "stream",
     "text": [
      "The initial random state is: (0.4514310327-0.086380106j)|010> + (0.5572956673+0.0724831132j)|011> + (0.2702114719+0.6076360927j)|100> + (0.0185232001+0.0405647271j)|101> + (0.059310305-0.1040691649j)|110> + (0.0280763065+0.1164276099j)|111>\n",
      "\n",
      "The final random state is: (1+0j)|0011>\n"
     ]
    }
   ],
   "source": [
    "m = 2\n",
    "t = [[n_qubits], [n_qubits + 1]]\n",
    "\n",
    "# Generate vector, put in standard ordering\n",
    "gc_vector = qch.genRandomVector(2**n_qubits, zero_places=m)\n",
    "P = hlqca.permutationMatrix(2**n_qubits)\n",
    "vector = gc_vector@P\n",
    "\n",
    "# Generate wavefunction from vector\n",
    "p = create_arbitrary_state(vector)\n",
    "result = WavefunctionSimulator().wavefunction(p)\n",
    "print(\"The initial random state is:\", result, end=\"\\n\\n\")\n",
    "\n",
    "# Show effect of W_m on wavefunction\n",
    "Wm_result = hlqca.genWm(gc_vector, n_qubits, t)\n",
    "p.inst( Wm_result )\n",
    "result = WavefunctionSimulator().wavefunction(p)\n",
    "print(\"The final random state is:\", result)"
   ]
  },
  {
   "cell_type": "markdown",
   "metadata": {},
   "source": [
    "#### Result of Test\n",
    "* Our program has taken the original wavefunction and collapsed it to the lowest nonzero basis vector.\n",
    "* This is how we want it to behave.\n",
    "* Additionally, we have generated a matrix (in the graycode ordering) which does the same thing as the program."
   ]
  },
  {
   "cell_type": "markdown",
   "metadata": {},
   "source": [
    "### Generating and testing the inverse of $W_m$, $C_m$\n",
    "* I've written a function which generates the inverse of $W_m$ (this is equivalent to doing all the transformations backwards and negating all of the angles).\n",
    "* So first I create a program which puts the quantum simulator into the $x_m$ basis state.\n",
    "* Then I run that program, and the program which implements $C_m$ on the quantum simulator.\n",
    "* It looks like I generate the desired state."
   ]
  },
  {
   "cell_type": "code",
   "execution_count": 15,
   "metadata": {
    "collapsed": false
   },
   "outputs": [
    {
     "name": "stdout",
     "output_type": "stream",
     "text": [
      "The initial random state is: (0.5457705724-0.1044317215j)|010> + (0.3266799555+0.7346191867j)|100> + (0.0223941572+0.0490418973j)|101> + (0.0717049045-0.1258174196j)|110> + (0.0339436608+0.1407585183j)|111>\n",
      "\n",
      "The random state after W_m is: (1+0j)|0010>\n",
      "\n",
      "The final random state after C_m is: (0.5457705724-0.1044317215j)|0010> + (0.3266799555+0.7346191867j)|0100> + (0.0223941572+0.0490418973j)|0101> + (0.0717049045-0.1258174196j)|0110> + (0.0339436608+0.1407585183j)|0111>\n",
      "\n",
      "The effect of the Wm matrix is: [ 0.+0.j  0.+0.j  0.+0.j  1.+0.j -0.-0.j -0.-0.j  0.-0.j  0.+0.j]\n"
     ]
    }
   ],
   "source": [
    "m = 3\n",
    "t = [[n_qubits], [n_qubits + 1]]\n",
    "\n",
    "# Generate vector, put in standard ordering\n",
    "gc_vector = qch.genRandomVector(2**n_qubits, zero_places=m)\n",
    "P = hlqca.permutationMatrix(2**n_qubits)\n",
    "vector = gc_vector@P\n",
    "\n",
    "# Generate wavefunction from vector\n",
    "p = create_arbitrary_state(vector)\n",
    "result = WavefunctionSimulator().wavefunction(p)\n",
    "print(\"The initial random state is:\", result, end=\"\\n\\n\")\n",
    "\n",
    "# Show effect of W_m on wavefunction\n",
    "Wm_result = hlqca.genWm(gc_vector, n_qubits, t)\n",
    "p.inst( Wm_result )\n",
    "result = WavefunctionSimulator().wavefunction(p)\n",
    "print(\"The random state after W_m is:\", result, end=\"\\n\\n\")\n",
    "\n",
    "# Show effect of C_m on single basis state\n",
    "Cm_result = hlqca.genCm(gc_vector, n_qubits, t)\n",
    "p.inst( Cm_result )\n",
    "result = WavefunctionSimulator().wavefunction(p)\n",
    "print(\"The final random state after C_m is:\", result, end=\"\\n\\n\")\n",
    "\n",
    "# Show effect of W_m matrix\n",
    "Wm_mat = hlqca.genWmMat(gc_vector, n_qubits)\n",
    "print(\"The effect of the Wm matrix is:\", (Wm_mat@gc_vector).round(10))"
   ]
  },
  {
   "cell_type": "markdown",
   "metadata": {},
   "source": [
    "## Iterating to generate matrix\n",
    "* Now we need to iteratively generate $C_m$'s to create the transformation.\n",
    "* During this process we'll also need to generate $U_m$ so that we can continue to iterate.\n",
    "* Generating $U_m$ just consists of multiplying $W_m$ by $U_{m-1}$, so if we can get $W_m$ in matrix form, then we're golden."
   ]
  },
  {
   "cell_type": "markdown",
   "metadata": {},
   "source": [
    "### Generating Random Unitary Operation\n",
    "* To do this we first create a random, square, complex-valued matrix.\n",
    "* Then we use QR decomposition (there is a function from the linalg package in scipy).\n",
    "* From this, we get a random unitary. \n",
    "* This is done in the function `genRandomUnitary` from the `QCHelper` package."
   ]
  },
  {
   "cell_type": "code",
   "execution_count": 16,
   "metadata": {
    "collapsed": false,
    "scrolled": true
   },
   "outputs": [
    {
     "data": {
      "text/html": [
       "<div>\n",
       "<table border=\"1\" class=\"dataframe\">\n",
       "  <thead>\n",
       "    <tr style=\"text-align: right;\">\n",
       "      <th></th>\n",
       "      <th>0</th>\n",
       "      <th>1</th>\n",
       "      <th>2</th>\n",
       "      <th>3</th>\n",
       "      <th>4</th>\n",
       "      <th>5</th>\n",
       "      <th>6</th>\n",
       "      <th>7</th>\n",
       "    </tr>\n",
       "  </thead>\n",
       "  <tbody>\n",
       "    <tr>\n",
       "      <th>0</th>\n",
       "      <td>(-0.068+0.346j)</td>\n",
       "      <td>(-0.579-0.142j)</td>\n",
       "      <td>(-0.159+0.017j)</td>\n",
       "      <td>(-0.214-0.431j)</td>\n",
       "      <td>(0.099-0.071j)</td>\n",
       "      <td>-0.083j</td>\n",
       "      <td>(-0.259+0.259j)</td>\n",
       "      <td>(0.323-0.055j)</td>\n",
       "    </tr>\n",
       "    <tr>\n",
       "      <th>1</th>\n",
       "      <td>(0.566+0.02j)</td>\n",
       "      <td>(0.168-0.23j)</td>\n",
       "      <td>(0.416+0.247j)</td>\n",
       "      <td>(0.061-0.416j)</td>\n",
       "      <td>(0.288+0.209j)</td>\n",
       "      <td>(-0.014-0.106j)</td>\n",
       "      <td>(0.093-0.067j)</td>\n",
       "      <td>(0.004-0.192j)</td>\n",
       "    </tr>\n",
       "    <tr>\n",
       "      <th>2</th>\n",
       "      <td>(0.187-0.217j)</td>\n",
       "      <td>(-0.151-0.166j)</td>\n",
       "      <td>(-0.064+0.197j)</td>\n",
       "      <td>(0.304+0.25j)</td>\n",
       "      <td>(0.126-0.498j)</td>\n",
       "      <td>(0.045+0.195j)</td>\n",
       "      <td>(0.244-0.051j)</td>\n",
       "      <td>(0.549-0.05j)</td>\n",
       "    </tr>\n",
       "    <tr>\n",
       "      <th>3</th>\n",
       "      <td>(0.326-0.279j)</td>\n",
       "      <td>(-0.351+0.137j)</td>\n",
       "      <td>(-0.057+0.141j)</td>\n",
       "      <td>(0.01-0.018j)</td>\n",
       "      <td>(-0.167+0.272j)</td>\n",
       "      <td>(0.56+0.177j)</td>\n",
       "      <td>(-0.106-0.046j)</td>\n",
       "      <td>(-0.072+0.431j)</td>\n",
       "    </tr>\n",
       "    <tr>\n",
       "      <th>4</th>\n",
       "      <td>(-0.061-0.009j)</td>\n",
       "      <td>(-0.466+0.214j)</td>\n",
       "      <td>(0.391-0.05j)</td>\n",
       "      <td>(0.406+0.172j)</td>\n",
       "      <td>(0.089+0.304j)</td>\n",
       "      <td>(-0.506+0.121j)</td>\n",
       "      <td>(-0.031+0.025j)</td>\n",
       "      <td>(-0.007+0.103j)</td>\n",
       "    </tr>\n",
       "    <tr>\n",
       "      <th>5</th>\n",
       "      <td>(0.096-0.063j)</td>\n",
       "      <td>(0.018+0.29j)</td>\n",
       "      <td>(-0.19+0.349j)</td>\n",
       "      <td>(0.118-0.308j)</td>\n",
       "      <td>(0.011-0.443j)</td>\n",
       "      <td>(-0.338-0.239j)</td>\n",
       "      <td>(-0.15-0.209j)</td>\n",
       "      <td>(-0.248+0.375j)</td>\n",
       "    </tr>\n",
       "    <tr>\n",
       "      <th>6</th>\n",
       "      <td>(0.465-0.22j)</td>\n",
       "      <td>(0.099+0.001j)</td>\n",
       "      <td>(-0.375-0.429j)</td>\n",
       "      <td>(0.184-0.03j)</td>\n",
       "      <td>(-0.313+0.156j)</td>\n",
       "      <td>(-0.273-0.222j)</td>\n",
       "      <td>(-0.217+0.121j)</td>\n",
       "      <td>(0.216-0.107j)</td>\n",
       "    </tr>\n",
       "    <tr>\n",
       "      <th>7</th>\n",
       "      <td>(0.029-0.078j)</td>\n",
       "      <td>(0.103-0.061j)</td>\n",
       "      <td>(0.177+0.073j)</td>\n",
       "      <td>(0.296+0.108j)</td>\n",
       "      <td>(0.057-0.267j)</td>\n",
       "      <td>(0.174-0.006j)</td>\n",
       "      <td>(-0.373+0.713j)</td>\n",
       "      <td>(-0.292-0.071j)</td>\n",
       "    </tr>\n",
       "  </tbody>\n",
       "</table>\n",
       "</div>"
      ],
      "text/plain": [
       "                 0                1                2                3  \\\n",
       "0  (-0.068+0.346j)  (-0.579-0.142j)  (-0.159+0.017j)  (-0.214-0.431j)   \n",
       "1    (0.566+0.02j)    (0.168-0.23j)   (0.416+0.247j)   (0.061-0.416j)   \n",
       "2   (0.187-0.217j)  (-0.151-0.166j)  (-0.064+0.197j)    (0.304+0.25j)   \n",
       "3   (0.326-0.279j)  (-0.351+0.137j)  (-0.057+0.141j)    (0.01-0.018j)   \n",
       "4  (-0.061-0.009j)  (-0.466+0.214j)    (0.391-0.05j)   (0.406+0.172j)   \n",
       "5   (0.096-0.063j)    (0.018+0.29j)   (-0.19+0.349j)   (0.118-0.308j)   \n",
       "6    (0.465-0.22j)   (0.099+0.001j)  (-0.375-0.429j)    (0.184-0.03j)   \n",
       "7   (0.029-0.078j)   (0.103-0.061j)   (0.177+0.073j)   (0.296+0.108j)   \n",
       "\n",
       "                 4                5                6                7  \n",
       "0   (0.099-0.071j)          -0.083j  (-0.259+0.259j)   (0.323-0.055j)  \n",
       "1   (0.288+0.209j)  (-0.014-0.106j)   (0.093-0.067j)   (0.004-0.192j)  \n",
       "2   (0.126-0.498j)   (0.045+0.195j)   (0.244-0.051j)    (0.549-0.05j)  \n",
       "3  (-0.167+0.272j)    (0.56+0.177j)  (-0.106-0.046j)  (-0.072+0.431j)  \n",
       "4   (0.089+0.304j)  (-0.506+0.121j)  (-0.031+0.025j)  (-0.007+0.103j)  \n",
       "5   (0.011-0.443j)  (-0.338-0.239j)   (-0.15-0.209j)  (-0.248+0.375j)  \n",
       "6  (-0.313+0.156j)  (-0.273-0.222j)  (-0.217+0.121j)   (0.216-0.107j)  \n",
       "7   (0.057-0.267j)   (0.174-0.006j)  (-0.373+0.713j)  (-0.292-0.071j)  "
      ]
     },
     "execution_count": 16,
     "metadata": {},
     "output_type": "execute_result"
    }
   ],
   "source": [
    "n_qubits = 3\n",
    "rand_seed = 42\n",
    "\n",
    "U = qch.genRandomUnitary(2**n_qubits, rand_seed=rand_seed)\n",
    "\n",
    "# Make sure it's unitary by multiplying by the adjoint\n",
    "U = np.matrix(U)\n",
    "df = pd.DataFrame(U)\n",
    "df.apply(np.round, decimals=3)"
   ]
  },
  {
   "cell_type": "markdown",
   "metadata": {},
   "source": [
    "* Make sure it's unitary (and not just random)"
   ]
  },
  {
   "cell_type": "code",
   "execution_count": 17,
   "metadata": {
    "collapsed": false
   },
   "outputs": [
    {
     "data": {
      "text/html": [
       "<div>\n",
       "<table border=\"1\" class=\"dataframe\">\n",
       "  <thead>\n",
       "    <tr style=\"text-align: right;\">\n",
       "      <th></th>\n",
       "      <th>0</th>\n",
       "      <th>1</th>\n",
       "      <th>2</th>\n",
       "      <th>3</th>\n",
       "      <th>4</th>\n",
       "      <th>5</th>\n",
       "      <th>6</th>\n",
       "      <th>7</th>\n",
       "    </tr>\n",
       "  </thead>\n",
       "  <tbody>\n",
       "    <tr>\n",
       "      <th>0</th>\n",
       "      <td>(1+0j)</td>\n",
       "      <td>(-0-0j)</td>\n",
       "      <td>(-0-0j)</td>\n",
       "      <td>0j</td>\n",
       "      <td>(-0+0j)</td>\n",
       "      <td>-0j</td>\n",
       "      <td>(-0-0j)</td>\n",
       "      <td>0j</td>\n",
       "    </tr>\n",
       "    <tr>\n",
       "      <th>1</th>\n",
       "      <td>(-0+0j)</td>\n",
       "      <td>(1+0j)</td>\n",
       "      <td>-0j</td>\n",
       "      <td>(-0+0j)</td>\n",
       "      <td>-0j</td>\n",
       "      <td>-0j</td>\n",
       "      <td>-0j</td>\n",
       "      <td>-0j</td>\n",
       "    </tr>\n",
       "    <tr>\n",
       "      <th>2</th>\n",
       "      <td>(-0+0j)</td>\n",
       "      <td>0j</td>\n",
       "      <td>(1+0j)</td>\n",
       "      <td>(-0-0j)</td>\n",
       "      <td>0j</td>\n",
       "      <td>0j</td>\n",
       "      <td>0j</td>\n",
       "      <td>(-0+0j)</td>\n",
       "    </tr>\n",
       "    <tr>\n",
       "      <th>3</th>\n",
       "      <td>-0j</td>\n",
       "      <td>(-0-0j)</td>\n",
       "      <td>(-0+0j)</td>\n",
       "      <td>(1+0j)</td>\n",
       "      <td>(-0+0j)</td>\n",
       "      <td>-0j</td>\n",
       "      <td>(-0+0j)</td>\n",
       "      <td>(-0+0j)</td>\n",
       "    </tr>\n",
       "    <tr>\n",
       "      <th>4</th>\n",
       "      <td>(-0-0j)</td>\n",
       "      <td>0j</td>\n",
       "      <td>-0j</td>\n",
       "      <td>(-0-0j)</td>\n",
       "      <td>(1+0j)</td>\n",
       "      <td>(-0+0j)</td>\n",
       "      <td>0j</td>\n",
       "      <td>0j</td>\n",
       "    </tr>\n",
       "    <tr>\n",
       "      <th>5</th>\n",
       "      <td>0j</td>\n",
       "      <td>0j</td>\n",
       "      <td>-0j</td>\n",
       "      <td>0j</td>\n",
       "      <td>(-0-0j)</td>\n",
       "      <td>(1+0j)</td>\n",
       "      <td>(-0-0j)</td>\n",
       "      <td>(-0+0j)</td>\n",
       "    </tr>\n",
       "    <tr>\n",
       "      <th>6</th>\n",
       "      <td>(-0+0j)</td>\n",
       "      <td>0j</td>\n",
       "      <td>-0j</td>\n",
       "      <td>0j</td>\n",
       "      <td>-0j</td>\n",
       "      <td>(-0+0j)</td>\n",
       "      <td>(1+0j)</td>\n",
       "      <td>0j</td>\n",
       "    </tr>\n",
       "    <tr>\n",
       "      <th>7</th>\n",
       "      <td>-0j</td>\n",
       "      <td>0j</td>\n",
       "      <td>(-0-0j)</td>\n",
       "      <td>(-0-0j)</td>\n",
       "      <td>0j</td>\n",
       "      <td>(-0-0j)</td>\n",
       "      <td>-0j</td>\n",
       "      <td>(1+0j)</td>\n",
       "    </tr>\n",
       "  </tbody>\n",
       "</table>\n",
       "</div>"
      ],
      "text/plain": [
       "         0        1        2        3        4        5        6        7\n",
       "0   (1+0j)  (-0-0j)  (-0-0j)       0j  (-0+0j)      -0j  (-0-0j)       0j\n",
       "1  (-0+0j)   (1+0j)      -0j  (-0+0j)      -0j      -0j      -0j      -0j\n",
       "2  (-0+0j)       0j   (1+0j)  (-0-0j)       0j       0j       0j  (-0+0j)\n",
       "3      -0j  (-0-0j)  (-0+0j)   (1+0j)  (-0+0j)      -0j  (-0+0j)  (-0+0j)\n",
       "4  (-0-0j)       0j      -0j  (-0-0j)   (1+0j)  (-0+0j)       0j       0j\n",
       "5       0j       0j      -0j       0j  (-0-0j)   (1+0j)  (-0-0j)  (-0+0j)\n",
       "6  (-0+0j)       0j      -0j       0j      -0j  (-0+0j)   (1+0j)       0j\n",
       "7      -0j       0j  (-0-0j)  (-0-0j)       0j  (-0-0j)      -0j   (1+0j)"
      ]
     },
     "execution_count": 17,
     "metadata": {},
     "output_type": "execute_result"
    }
   ],
   "source": [
    "df = pd.DataFrame(U@U.getH())\n",
    "df.apply(np.round, decimals=3)"
   ]
  },
  {
   "cell_type": "markdown",
   "metadata": {},
   "source": [
    "### Testing matrix generation on random unitary matrix\n",
    "* Now that we have a random unitary $U$, we can test its decomposition into gates.\n",
    "* Basically we'll want to generate a program which is a stack of $C_m$'s.\n",
    "* In order to generate the next $C_m$, we'll need to get the previous $W_m$ and from that generate a new $U_m$."
   ]
  },
  {
   "cell_type": "code",
   "execution_count": 18,
   "metadata": {
    "collapsed": false,
    "scrolled": false
   },
   "outputs": [
    {
     "data": {
      "text/html": [
       "<div>\n",
       "<table border=\"1\" class=\"dataframe\">\n",
       "  <thead>\n",
       "    <tr style=\"text-align: right;\">\n",
       "      <th></th>\n",
       "      <th>0</th>\n",
       "      <th>1</th>\n",
       "      <th>2</th>\n",
       "      <th>3</th>\n",
       "      <th>4</th>\n",
       "      <th>5</th>\n",
       "      <th>6</th>\n",
       "      <th>7</th>\n",
       "    </tr>\n",
       "  </thead>\n",
       "  <tbody>\n",
       "    <tr>\n",
       "      <th>0</th>\n",
       "      <td>(-0.06811+0.346j)</td>\n",
       "      <td>(-0.57904-0.14161j)</td>\n",
       "      <td>(-0.159+0.01719j)</td>\n",
       "      <td>(-0.21374-0.4306j)</td>\n",
       "      <td>(0.09871-0.07123j)</td>\n",
       "      <td>(0.00043-0.08285j)</td>\n",
       "      <td>(-0.25905+0.25928j)</td>\n",
       "      <td>(0.32341-0.05501j)</td>\n",
       "    </tr>\n",
       "    <tr>\n",
       "      <th>1</th>\n",
       "      <td>(0.56563+0.01963j)</td>\n",
       "      <td>(0.16839-0.22968j)</td>\n",
       "      <td>(0.41598+0.24706j)</td>\n",
       "      <td>(0.06132-0.41588j)</td>\n",
       "      <td>(0.2875+0.20865j)</td>\n",
       "      <td>(-0.01358-0.10622j)</td>\n",
       "      <td>(0.093-0.06741j)</td>\n",
       "      <td>(0.0041-0.19211j)</td>\n",
       "    </tr>\n",
       "    <tr>\n",
       "      <th>2</th>\n",
       "      <td>(0.18686-0.21712j)</td>\n",
       "      <td>(-0.15122-0.16641j)</td>\n",
       "      <td>(-0.06407+0.19694j)</td>\n",
       "      <td>(0.30405+0.24976j)</td>\n",
       "      <td>(0.12588-0.49776j)</td>\n",
       "      <td>(0.04464+0.19468j)</td>\n",
       "      <td>(0.244-0.05098j)</td>\n",
       "      <td>(0.54911-0.04997j)</td>\n",
       "    </tr>\n",
       "    <tr>\n",
       "      <th>3</th>\n",
       "      <td>(0.32602-0.27947j)</td>\n",
       "      <td>(-0.35066+0.13724j)</td>\n",
       "      <td>(-0.05682+0.14053j)</td>\n",
       "      <td>(0.00991-0.018j)</td>\n",
       "      <td>(-0.1669+0.27173j)</td>\n",
       "      <td>(0.55962+0.1773j)</td>\n",
       "      <td>(-0.10627-0.04604j)</td>\n",
       "      <td>(-0.0724+0.43065j)</td>\n",
       "    </tr>\n",
       "    <tr>\n",
       "      <th>4</th>\n",
       "      <td>(-0.06063-0.00872j)</td>\n",
       "      <td>(-0.46563+0.21436j)</td>\n",
       "      <td>(0.39069-0.05046j)</td>\n",
       "      <td>(0.40587+0.17195j)</td>\n",
       "      <td>(0.08912+0.30417j)</td>\n",
       "      <td>(-0.50648+0.12142j)</td>\n",
       "      <td>(-0.03083+0.02451j)</td>\n",
       "      <td>(-0.00654+0.10334j)</td>\n",
       "    </tr>\n",
       "    <tr>\n",
       "      <th>5</th>\n",
       "      <td>(0.09606-0.06304j)</td>\n",
       "      <td>(0.01812+0.28963j)</td>\n",
       "      <td>(-0.19007+0.34891j)</td>\n",
       "      <td>(0.11829-0.30812j)</td>\n",
       "      <td>(0.01087-0.44272j)</td>\n",
       "      <td>(-0.33828-0.23929j)</td>\n",
       "      <td>(-0.1498-0.2087j)</td>\n",
       "      <td>(-0.24768+0.37502j)</td>\n",
       "    </tr>\n",
       "    <tr>\n",
       "      <th>6</th>\n",
       "      <td>(0.46534-0.22005j)</td>\n",
       "      <td>(0.09925+0.0009j)</td>\n",
       "      <td>(-0.37547-0.42882j)</td>\n",
       "      <td>(0.18358-0.03015j)</td>\n",
       "      <td>(-0.31319+0.15578j)</td>\n",
       "      <td>(-0.27317-0.2217j)</td>\n",
       "      <td>(-0.21656+0.12084j)</td>\n",
       "      <td>(0.21579-0.10731j)</td>\n",
       "    </tr>\n",
       "    <tr>\n",
       "      <th>7</th>\n",
       "      <td>(0.02942-0.07795j)</td>\n",
       "      <td>(0.10312-0.06107j)</td>\n",
       "      <td>(0.17652+0.07347j)</td>\n",
       "      <td>(0.29584+0.10763j)</td>\n",
       "      <td>(0.05733-0.26734j)</td>\n",
       "      <td>(0.17437-0.00585j)</td>\n",
       "      <td>(-0.37299+0.71328j)</td>\n",
       "      <td>(-0.29151-0.07051j)</td>\n",
       "    </tr>\n",
       "  </tbody>\n",
       "</table>\n",
       "</div>"
      ],
      "text/plain": [
       "                     0                    1                    2  \\\n",
       "0    (-0.06811+0.346j)  (-0.57904-0.14161j)    (-0.159+0.01719j)   \n",
       "1   (0.56563+0.01963j)   (0.16839-0.22968j)   (0.41598+0.24706j)   \n",
       "2   (0.18686-0.21712j)  (-0.15122-0.16641j)  (-0.06407+0.19694j)   \n",
       "3   (0.32602-0.27947j)  (-0.35066+0.13724j)  (-0.05682+0.14053j)   \n",
       "4  (-0.06063-0.00872j)  (-0.46563+0.21436j)   (0.39069-0.05046j)   \n",
       "5   (0.09606-0.06304j)   (0.01812+0.28963j)  (-0.19007+0.34891j)   \n",
       "6   (0.46534-0.22005j)    (0.09925+0.0009j)  (-0.37547-0.42882j)   \n",
       "7   (0.02942-0.07795j)   (0.10312-0.06107j)   (0.17652+0.07347j)   \n",
       "\n",
       "                    3                    4                    5  \\\n",
       "0  (-0.21374-0.4306j)   (0.09871-0.07123j)   (0.00043-0.08285j)   \n",
       "1  (0.06132-0.41588j)    (0.2875+0.20865j)  (-0.01358-0.10622j)   \n",
       "2  (0.30405+0.24976j)   (0.12588-0.49776j)   (0.04464+0.19468j)   \n",
       "3    (0.00991-0.018j)   (-0.1669+0.27173j)    (0.55962+0.1773j)   \n",
       "4  (0.40587+0.17195j)   (0.08912+0.30417j)  (-0.50648+0.12142j)   \n",
       "5  (0.11829-0.30812j)   (0.01087-0.44272j)  (-0.33828-0.23929j)   \n",
       "6  (0.18358-0.03015j)  (-0.31319+0.15578j)   (-0.27317-0.2217j)   \n",
       "7  (0.29584+0.10763j)   (0.05733-0.26734j)   (0.17437-0.00585j)   \n",
       "\n",
       "                     6                    7  \n",
       "0  (-0.25905+0.25928j)   (0.32341-0.05501j)  \n",
       "1     (0.093-0.06741j)    (0.0041-0.19211j)  \n",
       "2     (0.244-0.05098j)   (0.54911-0.04997j)  \n",
       "3  (-0.10627-0.04604j)   (-0.0724+0.43065j)  \n",
       "4  (-0.03083+0.02451j)  (-0.00654+0.10334j)  \n",
       "5    (-0.1498-0.2087j)  (-0.24768+0.37502j)  \n",
       "6  (-0.21656+0.12084j)   (0.21579-0.10731j)  \n",
       "7  (-0.37299+0.71328j)  (-0.29151-0.07051j)  "
      ]
     },
     "execution_count": 18,
     "metadata": {},
     "output_type": "execute_result"
    }
   ],
   "source": [
    "t = [[n_qubits], [n_qubits + 1]]\n",
    "\n",
    "U = np.array(U)\n",
    "p = hlqca.genNQubitTransform(U, n_qubits, t)\n",
    "\n",
    "df = pd.DataFrame(U)\n",
    "df.apply(np.round, decimals=5)"
   ]
  },
  {
   "cell_type": "code",
   "execution_count": 19,
   "metadata": {
    "collapsed": false
   },
   "outputs": [
    {
     "data": {
      "text/html": [
       "<div>\n",
       "<table border=\"1\" class=\"dataframe\">\n",
       "  <thead>\n",
       "    <tr style=\"text-align: right;\">\n",
       "      <th></th>\n",
       "      <th>0</th>\n",
       "      <th>1</th>\n",
       "      <th>2</th>\n",
       "      <th>3</th>\n",
       "      <th>4</th>\n",
       "      <th>5</th>\n",
       "      <th>6</th>\n",
       "      <th>7</th>\n",
       "    </tr>\n",
       "  </thead>\n",
       "  <tbody>\n",
       "    <tr>\n",
       "      <th>0</th>\n",
       "      <td>(-0.06811+0.346j)</td>\n",
       "      <td>(-0.57904-0.14161j)</td>\n",
       "      <td>(-0.159+0.01719j)</td>\n",
       "      <td>(-0.21374-0.4306j)</td>\n",
       "      <td>(0.09871-0.07123j)</td>\n",
       "      <td>(0.00043-0.08285j)</td>\n",
       "      <td>(-0.25905+0.25928j)</td>\n",
       "      <td>(0.32341-0.05501j)</td>\n",
       "    </tr>\n",
       "    <tr>\n",
       "      <th>1</th>\n",
       "      <td>(0.56563+0.01963j)</td>\n",
       "      <td>(0.16839-0.22968j)</td>\n",
       "      <td>(0.41598+0.24706j)</td>\n",
       "      <td>(0.06132-0.41588j)</td>\n",
       "      <td>(0.2875+0.20865j)</td>\n",
       "      <td>(-0.01358-0.10622j)</td>\n",
       "      <td>(0.093-0.06741j)</td>\n",
       "      <td>(0.0041-0.19211j)</td>\n",
       "    </tr>\n",
       "    <tr>\n",
       "      <th>2</th>\n",
       "      <td>(0.18686-0.21712j)</td>\n",
       "      <td>(-0.15122-0.16641j)</td>\n",
       "      <td>(-0.06407+0.19694j)</td>\n",
       "      <td>(0.30405+0.24976j)</td>\n",
       "      <td>(0.12588-0.49776j)</td>\n",
       "      <td>(0.04464+0.19468j)</td>\n",
       "      <td>(0.244-0.05098j)</td>\n",
       "      <td>(0.54911-0.04997j)</td>\n",
       "    </tr>\n",
       "    <tr>\n",
       "      <th>3</th>\n",
       "      <td>(0.32602-0.27947j)</td>\n",
       "      <td>(-0.35066+0.13724j)</td>\n",
       "      <td>(-0.05682+0.14053j)</td>\n",
       "      <td>(0.00991-0.018j)</td>\n",
       "      <td>(-0.1669+0.27173j)</td>\n",
       "      <td>(0.55962+0.1773j)</td>\n",
       "      <td>(-0.10627-0.04604j)</td>\n",
       "      <td>(-0.0724+0.43065j)</td>\n",
       "    </tr>\n",
       "    <tr>\n",
       "      <th>4</th>\n",
       "      <td>(-0.06063-0.00872j)</td>\n",
       "      <td>(-0.46563+0.21436j)</td>\n",
       "      <td>(0.39069-0.05046j)</td>\n",
       "      <td>(0.40587+0.17195j)</td>\n",
       "      <td>(0.08912+0.30417j)</td>\n",
       "      <td>(-0.50648+0.12142j)</td>\n",
       "      <td>(-0.03083+0.02451j)</td>\n",
       "      <td>(-0.00654+0.10334j)</td>\n",
       "    </tr>\n",
       "    <tr>\n",
       "      <th>5</th>\n",
       "      <td>(0.09606-0.06304j)</td>\n",
       "      <td>(0.01812+0.28963j)</td>\n",
       "      <td>(-0.19007+0.34891j)</td>\n",
       "      <td>(0.11829-0.30812j)</td>\n",
       "      <td>(0.01087-0.44272j)</td>\n",
       "      <td>(-0.33828-0.23929j)</td>\n",
       "      <td>(-0.1498-0.2087j)</td>\n",
       "      <td>(-0.24768+0.37502j)</td>\n",
       "    </tr>\n",
       "    <tr>\n",
       "      <th>6</th>\n",
       "      <td>(0.46534-0.22005j)</td>\n",
       "      <td>(0.09925+0.0009j)</td>\n",
       "      <td>(-0.37547-0.42882j)</td>\n",
       "      <td>(0.18358-0.03015j)</td>\n",
       "      <td>(-0.31319+0.15578j)</td>\n",
       "      <td>(-0.27317-0.2217j)</td>\n",
       "      <td>(-0.21656+0.12084j)</td>\n",
       "      <td>(0.21579-0.10731j)</td>\n",
       "    </tr>\n",
       "    <tr>\n",
       "      <th>7</th>\n",
       "      <td>(0.02942-0.07795j)</td>\n",
       "      <td>(0.10312-0.06107j)</td>\n",
       "      <td>(0.17652+0.07347j)</td>\n",
       "      <td>(0.29584+0.10763j)</td>\n",
       "      <td>(0.05733-0.26734j)</td>\n",
       "      <td>(0.17437-0.00585j)</td>\n",
       "      <td>(-0.37299+0.71328j)</td>\n",
       "      <td>(-0.29151-0.07051j)</td>\n",
       "    </tr>\n",
       "  </tbody>\n",
       "</table>\n",
       "</div>"
      ],
      "text/plain": [
       "                     0                    1                    2  \\\n",
       "0    (-0.06811+0.346j)  (-0.57904-0.14161j)    (-0.159+0.01719j)   \n",
       "1   (0.56563+0.01963j)   (0.16839-0.22968j)   (0.41598+0.24706j)   \n",
       "2   (0.18686-0.21712j)  (-0.15122-0.16641j)  (-0.06407+0.19694j)   \n",
       "3   (0.32602-0.27947j)  (-0.35066+0.13724j)  (-0.05682+0.14053j)   \n",
       "4  (-0.06063-0.00872j)  (-0.46563+0.21436j)   (0.39069-0.05046j)   \n",
       "5   (0.09606-0.06304j)   (0.01812+0.28963j)  (-0.19007+0.34891j)   \n",
       "6   (0.46534-0.22005j)    (0.09925+0.0009j)  (-0.37547-0.42882j)   \n",
       "7   (0.02942-0.07795j)   (0.10312-0.06107j)   (0.17652+0.07347j)   \n",
       "\n",
       "                    3                    4                    5  \\\n",
       "0  (-0.21374-0.4306j)   (0.09871-0.07123j)   (0.00043-0.08285j)   \n",
       "1  (0.06132-0.41588j)    (0.2875+0.20865j)  (-0.01358-0.10622j)   \n",
       "2  (0.30405+0.24976j)   (0.12588-0.49776j)   (0.04464+0.19468j)   \n",
       "3    (0.00991-0.018j)   (-0.1669+0.27173j)    (0.55962+0.1773j)   \n",
       "4  (0.40587+0.17195j)   (0.08912+0.30417j)  (-0.50648+0.12142j)   \n",
       "5  (0.11829-0.30812j)   (0.01087-0.44272j)  (-0.33828-0.23929j)   \n",
       "6  (0.18358-0.03015j)  (-0.31319+0.15578j)   (-0.27317-0.2217j)   \n",
       "7  (0.29584+0.10763j)   (0.05733-0.26734j)   (0.17437-0.00585j)   \n",
       "\n",
       "                     6                    7  \n",
       "0  (-0.25905+0.25928j)   (0.32341-0.05501j)  \n",
       "1     (0.093-0.06741j)    (0.0041-0.19211j)  \n",
       "2     (0.244-0.05098j)   (0.54911-0.04997j)  \n",
       "3  (-0.10627-0.04604j)   (-0.0724+0.43065j)  \n",
       "4  (-0.03083+0.02451j)  (-0.00654+0.10334j)  \n",
       "5    (-0.1498-0.2087j)  (-0.24768+0.37502j)  \n",
       "6  (-0.21656+0.12084j)   (0.21579-0.10731j)  \n",
       "7  (-0.37299+0.71328j)  (-0.29151-0.07051j)  "
      ]
     },
     "execution_count": 19,
     "metadata": {},
     "output_type": "execute_result"
    }
   ],
   "source": [
    "New_U = qch.getMatFromProgram(n_qubits, p)\n",
    "df = pd.DataFrame(New_U)\n",
    "df.apply(np.round, decimals=5)"
   ]
  },
  {
   "cell_type": "code",
   "execution_count": 20,
   "metadata": {
    "collapsed": false,
    "scrolled": true
   },
   "outputs": [
    {
     "data": {
      "text/html": [
       "<div>\n",
       "<table border=\"1\" class=\"dataframe\">\n",
       "  <thead>\n",
       "    <tr style=\"text-align: right;\">\n",
       "      <th></th>\n",
       "      <th>0</th>\n",
       "      <th>1</th>\n",
       "      <th>2</th>\n",
       "      <th>3</th>\n",
       "      <th>4</th>\n",
       "      <th>5</th>\n",
       "      <th>6</th>\n",
       "      <th>7</th>\n",
       "    </tr>\n",
       "  </thead>\n",
       "  <tbody>\n",
       "    <tr>\n",
       "      <th>0</th>\n",
       "      <td>-0j</td>\n",
       "      <td>0j</td>\n",
       "      <td>(-0-0j)</td>\n",
       "      <td>0j</td>\n",
       "      <td>(-0+0j)</td>\n",
       "      <td>0j</td>\n",
       "      <td>-0j</td>\n",
       "      <td>(-0+0j)</td>\n",
       "    </tr>\n",
       "    <tr>\n",
       "      <th>1</th>\n",
       "      <td>(-0+0j)</td>\n",
       "      <td>(-0+0j)</td>\n",
       "      <td>(-0+0j)</td>\n",
       "      <td>(-0+0j)</td>\n",
       "      <td>(-0+0j)</td>\n",
       "      <td>(-0+0j)</td>\n",
       "      <td>(-0-0j)</td>\n",
       "      <td>-0j</td>\n",
       "    </tr>\n",
       "    <tr>\n",
       "      <th>2</th>\n",
       "      <td>-0j</td>\n",
       "      <td>(-0+0j)</td>\n",
       "      <td>(-0+0j)</td>\n",
       "      <td>(-0-0j)</td>\n",
       "      <td>(-0+0j)</td>\n",
       "      <td>(-0-0j)</td>\n",
       "      <td>(-0-0j)</td>\n",
       "      <td>(-0+0j)</td>\n",
       "    </tr>\n",
       "    <tr>\n",
       "      <th>3</th>\n",
       "      <td>(-0+0j)</td>\n",
       "      <td>-0j</td>\n",
       "      <td>-0j</td>\n",
       "      <td>0j</td>\n",
       "      <td>-0j</td>\n",
       "      <td>0j</td>\n",
       "      <td>0j</td>\n",
       "      <td>(-0-0j)</td>\n",
       "    </tr>\n",
       "    <tr>\n",
       "      <th>4</th>\n",
       "      <td>-0j</td>\n",
       "      <td>0j</td>\n",
       "      <td>(-0-0j)</td>\n",
       "      <td>(-0-0j)</td>\n",
       "      <td>-0j</td>\n",
       "      <td>0j</td>\n",
       "      <td>(-0+0j)</td>\n",
       "      <td>-0j</td>\n",
       "    </tr>\n",
       "    <tr>\n",
       "      <th>5</th>\n",
       "      <td>(-0-0j)</td>\n",
       "      <td>(-0-0j)</td>\n",
       "      <td>-0j</td>\n",
       "      <td>(-0+0j)</td>\n",
       "      <td>(-0+0j)</td>\n",
       "      <td>0j</td>\n",
       "      <td>-0j</td>\n",
       "      <td>-0j</td>\n",
       "    </tr>\n",
       "    <tr>\n",
       "      <th>6</th>\n",
       "      <td>(-0+0j)</td>\n",
       "      <td>-0j</td>\n",
       "      <td>0j</td>\n",
       "      <td>(-0-0j)</td>\n",
       "      <td>-0j</td>\n",
       "      <td>(-0+0j)</td>\n",
       "      <td>-0j</td>\n",
       "      <td>(-0+0j)</td>\n",
       "    </tr>\n",
       "    <tr>\n",
       "      <th>7</th>\n",
       "      <td>(-0+0j)</td>\n",
       "      <td>-0j</td>\n",
       "      <td>(-0+0j)</td>\n",
       "      <td>(-0-0j)</td>\n",
       "      <td>0j</td>\n",
       "      <td>0j</td>\n",
       "      <td>-0j</td>\n",
       "      <td>-0j</td>\n",
       "    </tr>\n",
       "  </tbody>\n",
       "</table>\n",
       "</div>"
      ],
      "text/plain": [
       "         0        1        2        3        4        5        6        7\n",
       "0      -0j       0j  (-0-0j)       0j  (-0+0j)       0j      -0j  (-0+0j)\n",
       "1  (-0+0j)  (-0+0j)  (-0+0j)  (-0+0j)  (-0+0j)  (-0+0j)  (-0-0j)      -0j\n",
       "2      -0j  (-0+0j)  (-0+0j)  (-0-0j)  (-0+0j)  (-0-0j)  (-0-0j)  (-0+0j)\n",
       "3  (-0+0j)      -0j      -0j       0j      -0j       0j       0j  (-0-0j)\n",
       "4      -0j       0j  (-0-0j)  (-0-0j)      -0j       0j  (-0+0j)      -0j\n",
       "5  (-0-0j)  (-0-0j)      -0j  (-0+0j)  (-0+0j)       0j      -0j      -0j\n",
       "6  (-0+0j)      -0j       0j  (-0-0j)      -0j  (-0+0j)      -0j  (-0+0j)\n",
       "7  (-0+0j)      -0j  (-0+0j)  (-0-0j)       0j       0j      -0j      -0j"
      ]
     },
     "execution_count": 20,
     "metadata": {},
     "output_type": "execute_result"
    }
   ],
   "source": [
    "df = pd.DataFrame(U - New_U)\n",
    "df.apply(np.round, decimals=5)"
   ]
  },
  {
   "cell_type": "markdown",
   "metadata": {},
   "source": [
    "# Quantum Fourier Transform"
   ]
  },
  {
   "cell_type": "markdown",
   "metadata": {},
   "source": [
    "### Iterative Phase Estimation Algorithm\n",
    "* Here we try to get the phase estimation from a small number of qubits.\n",
    "* Hopefully we can do this by applying $(2\\omega)$ and then $(4\\omega)$ and so on."
   ]
  },
  {
   "cell_type": "markdown",
   "metadata": {},
   "source": [
    "$\\newcommand{\\ket}[1]{\\left|{#1}\\right\\rangle}\n",
    "\\newcommand{\\bra}[1]{\\left\\langle{#1}\\right|}$\n",
    "#### First, we create the following superposition:\n",
    "$$\n",
    "    \\ket{\\psi} = \\frac{1}{\\sqrt{n}} \\left( \\ket{000...} + e^{-2\\pi f}\\ket{00...01} + e^{-2\\pi 2f}\\ket{00...10} + ... + e^{-2\\pi nf}\\ket{111...} \\right)\n",
    "$$"
   ]
  },
  {
   "cell_type": "code",
   "execution_count": 21,
   "metadata": {
    "collapsed": false
   },
   "outputs": [
    {
     "name": "stdout",
     "output_type": "stream",
     "text": [
      "(0.25+0j)|0000> + -0.25j|0001> + (-0.25+0j)|0010> + 0.25j|0011> + (0.25+0j)|0100> + -0.25j|0101> + (-0.25+0j)|0110> + 0.25j|0111> + (0.25+0j)|1000> + -0.25j|1001> + (-0.25+0j)|1010> + 0.25j|1011> + (0.25+0j)|1100> + (-0-0.25j)|1101> + (-0.25+0j)|1110> + 0.25j|1111>\n"
     ]
    }
   ],
   "source": [
    "n_qubits = 4\n",
    "f = 1/4\n",
    "omega = -2*np.pi*f\n",
    "M = n_qubits**2\n",
    "n = np.array([i for i in range(M)])\n",
    "x = np.exp(omega*1j*n)\n",
    "\n",
    "p = create_arbitrary_state(x)\n",
    "wfn = WavefunctionSimulator().wavefunction(p)\n",
    "print(wfn)"
   ]
  },
  {
   "cell_type": "markdown",
   "metadata": {},
   "source": [
    "* Then we run the quantum fourier transform. \n",
    "* Based on the continuous transform, the basis state corresponding to the value of f should have the highest amplitude."
   ]
  },
  {
   "cell_type": "code",
   "execution_count": 22,
   "metadata": {
    "collapsed": false
   },
   "outputs": [
    {
     "name": "stdout",
     "output_type": "stream",
     "text": [
      "(1+0j)|0100>\n",
      "\n",
      "4\n",
      "0.25\n"
     ]
    }
   ],
   "source": [
    "p = create_arbitrary_state(x)\n",
    "p.inst( qft([i for i in range(n_qubits)]) )\n",
    "wfn = WavefunctionSimulator().wavefunction(p)\n",
    "\n",
    "print(wfn, end=\"\\n\\n\")\n",
    "print(np.argmax(np.abs(wfn.amplitudes)))\n",
    "print(np.argmax(np.abs(wfn.amplitudes))/len(wfn.amplitudes))"
   ]
  },
  {
   "cell_type": "markdown",
   "metadata": {},
   "source": [
    "* We notice that the Fourier transformation of the wavefunction is exactly the binary representation of the phase.\n",
    "* i.e. the binary representation of 1/4 is 0.0100 and the state with the highest amplitude is 0100\n",
    "* I guess we will be able to measure the phase to 1/2^n with n qubits.\n",
    "* We can try again with a different phase."
   ]
  },
  {
   "cell_type": "code",
   "execution_count": 23,
   "metadata": {
    "collapsed": false
   },
   "outputs": [
    {
     "name": "stdout",
     "output_type": "stream",
     "text": [
      "(1+0j)|0010>\n",
      "\n",
      "2\n",
      "0.125\n"
     ]
    }
   ],
   "source": [
    "n_qubits = 4\n",
    "f = 1/8\n",
    "omega = -2*np.pi*f\n",
    "M = n_qubits**2\n",
    "n = np.array([i for i in range(M)])\n",
    "x = np.exp(omega*1j*n)\n",
    "\n",
    "p = create_arbitrary_state(x)\n",
    "p.inst( qft([i for i in range(n_qubits)]) )\n",
    "wfn = WavefunctionSimulator().wavefunction(p)\n",
    "print(wfn, end=\"\\n\\n\")\n",
    "print(np.argmax(np.abs(wfn.amplitudes)))\n",
    "print(np.argmax(np.abs(wfn.amplitudes))/len(wfn.amplitudes))"
   ]
  },
  {
   "cell_type": "markdown",
   "metadata": {},
   "source": [
    "### Higher decimal expansion\n",
    "* Now we can try to do something that has a higher decimal expansion.\n",
    "* Try $f = \\frac{1}{13} \\approx \\frac{1}{16} + \\frac{1}{128} + \\frac{1}{256} + \\frac{1}{512} + \\frac{1}{2048} + \\frac{1}{4096}$\n",
    "* This means that the binary representation of $\\frac{1}{13} = 0.000100111011...$\n",
    "* In this scenario I am just going to print out the binary representation of the index with the larges amplitude"
   ]
  },
  {
   "cell_type": "code",
   "execution_count": 24,
   "metadata": {
    "collapsed": false
   },
   "outputs": [
    {
     "name": "stdout",
     "output_type": "stream",
     "text": [
      "f is 0.07692307692307693\n",
      "In binary, f is 0.0001\n",
      "State with highest magnitude is: 0001\n",
      "\n",
      "f is 0.15384615384615385\n",
      "In binary, f is 0.0010\n",
      "State with highest magnitude is: 0010\n",
      "\n",
      "f is 0.3076923076923077\n",
      "In binary, f is 0.0100\n",
      "State with highest magnitude is: 0101\n",
      "\n",
      "f is 0.6153846153846154\n",
      "In binary, f is 0.1001\n",
      "State with highest magnitude is: 1010\n",
      "Was true\n",
      "\n",
      "f is 0.23076923076923084\n",
      "In binary, f is 0.0011\n",
      "State with highest magnitude is: 0100\n",
      "\n",
      "f is 0.4615384615384617\n",
      "In binary, f is 0.0111\n",
      "State with highest magnitude is: 0111\n",
      "\n",
      "f is 0.9230769230769234\n",
      "In binary, f is 0.1110\n",
      "State with highest magnitude is: 1111\n",
      "Was true\n",
      "\n"
     ]
    }
   ],
   "source": [
    "n_qubits = 4\n",
    "n_digits = 7\n",
    "f = 1/13\n",
    "\n",
    "for i in range(n_digits):\n",
    "\n",
    "    # Make vector representing wavefunction after\n",
    "    # it has been set up by phase estimation alg.\n",
    "    omega = 2*np.pi*(f)\n",
    "    M = n_qubits**2\n",
    "    n = np.array([i for i in range(M)])\n",
    "    x = np.exp(-omega*1j*n)\n",
    "\n",
    "    # Encode the generation of that state into a q-program\n",
    "    p = create_arbitrary_state(x)\n",
    "    \n",
    "    # Perform quantum fourier transform, run program\n",
    "    p.inst( qft([i for i in range(n_qubits)]) )\n",
    "    wfn = WavefunctionSimulator().wavefunction(p)\n",
    "\n",
    "    # Find basis state with highest amplitude - get binary rep\n",
    "    max_idx = np.argmax(np.abs(wfn.amplitudes))\n",
    "    bin_phase = np.binary_repr(max_idx, width=n_qubits)\n",
    "    \n",
    "    print(\"f is\", f)\n",
    "    print(\"In binary, f is\", qch.getBinFrac(f, n_qubits))\n",
    "    print(\"State with highest magnitude is:\", bin_phase)\n",
    "    \n",
    "    # If the first digit is 1 in binary representation,\n",
    "    # subtract it off (don't want f to go over 1)\n",
    "    if int(bin_phase[0]):\n",
    "        f -= 1/2\n",
    "        print(\"Was true\")\n",
    "      \n",
    "    # Multiply everything by 2 (shifts binary representation\n",
    "    # over by one bit)\n",
    "    f *= 2\n",
    "    \n",
    "    print()"
   ]
  },
  {
   "cell_type": "markdown",
   "metadata": {},
   "source": [
    "* It looks like, although the phase estimation algorithm wasn't accurate to all bit places all the time, the first bit after each successive iteration was always correct."
   ]
  },
  {
   "cell_type": "markdown",
   "metadata": {},
   "source": [
    "### Writing Stock Phase Estimation Algorithm\n",
    "* Now that we know how the iterated phase estimation algorithm will work, I want to write a method which takes in a program, and does the phase estimation algorithm.\n",
    "* I will begin by trying to estimate the phase from the phase gate.\n",
    "* For this I need to apply the phase gate to the nth basis state n times.\n",
    "     1. To do this, we first flip an auxiliary qubit to 1 for all the states.\n",
    "     2. Then, we instantiate a for loop to run for n times.\n",
    "     3. In the for loop, we first flip the auxiliary qubit in the nth basis state (this can be done with the AND operation).\n",
    "     4. Then we apply the gate which will be controlled by the auxiliary qubit.\n",
    "     \n",
    "     \n",
    "* By doing this, we will have applied the gate n times to the nth basis.\n",
    "* Then we just have to apply the quantum fourier transform to the qubits used in the enumeration."
   ]
  },
  {
   "cell_type": "markdown",
   "metadata": {},
   "source": [
    "#### The following code does the PEA superposition (right before qft)"
   ]
  },
  {
   "cell_type": "code",
   "execution_count": 25,
   "metadata": {
    "collapsed": false
   },
   "outputs": [
    {
     "name": "stdout",
     "output_type": "stream",
     "text": [
      "[ 0.25      +4.85722573e-17j  0.22136401-1.16180793e-01j\n",
      "  0.14201619-2.05745966e-01j  0.03013417-2.48177219e-01j\n",
      " -0.08865122-2.33754061e-01j -0.18712769-1.65780665e-01j\n",
      " -0.24273545-5.98289161e-02j -0.24273545+5.98289161e-02j\n",
      " -0.18712769+1.65780665e-01j -0.08865122+2.33754061e-01j\n",
      "  0.03013417+2.48177219e-01j  0.14201619+2.05745966e-01j\n",
      "  0.22136401+1.16180793e-01j  0.25      -1.94289029e-16j\n",
      "  0.22136401-1.16180793e-01j  0.14201619-2.05745966e-01j]\n",
      "\n",
      "[ 0.25      +0.00000000e+00j  0.22136401-1.16180793e-01j\n",
      "  0.14201619-2.05745966e-01j  0.03013417-2.48177219e-01j\n",
      " -0.08865122-2.33754061e-01j -0.18712769-1.65780665e-01j\n",
      " -0.24273545-5.98289161e-02j -0.24273545+5.98289161e-02j\n",
      " -0.18712769+1.65780665e-01j -0.08865122+2.33754061e-01j\n",
      "  0.03013417+2.48177219e-01j  0.14201619+2.05745966e-01j\n",
      "  0.22136401+1.16180793e-01j  0.25      +6.12323400e-17j\n",
      "  0.22136401-1.16180793e-01j  0.14201619-2.05745966e-01j]\n"
     ]
    }
   ],
   "source": [
    "n_qubits = 4\n",
    "a = [i for i in range(n_qubits)]\n",
    "b = [n_qubits + 1]\n",
    "t = [n_qubits + 2]\n",
    "M = 2**n_qubits\n",
    "f = 1/13\n",
    "phase = -2*np.pi*f\n",
    "Q = {\"delta\": phase}\n",
    "\n",
    "p = Program()\n",
    "\n",
    "# Create equal superposition\n",
    "for i in range(n_qubits):\n",
    "    p.inst(Program(H(i)))\n",
    "    \n",
    "# Flip auxiliary qubit\n",
    "p.inst( Program(X(b[0])) )\n",
    "    \n",
    "# Apply phase gate to the ith basis vector i times\n",
    "for i in range(M):\n",
    "    # Get control string for current basis vector\n",
    "    ctrl_str = np.binary_repr(i, width=n_qubits)\n",
    "    ctrl_str = [int(j) for j in ctrl_str]\n",
    "    ctrl_str.reverse()\n",
    "    \n",
    "    # Negate control qubit in ith basis vector\n",
    "    for j in range(len(ctrl_str)):\n",
    "        if not ctrl_str[j]:\n",
    "            p.inst(X(j))\n",
    "            \n",
    "    p.inst( llqca.And(a, b, t) )\n",
    "    \n",
    "    for j in range(len(ctrl_str)):\n",
    "        if not ctrl_str[j]:\n",
    "            p.inst( X(j) )\n",
    "            \n",
    "    # Apply gate controlled by auxiliary qubit\n",
    "    p.inst( llqca.controlGate([n_qubits + 1], [0], Q) )\n",
    "    \n",
    "# Print out the relevant amplitudes\n",
    "wfn = WavefunctionSimulator().wavefunction(p)\n",
    "print(wfn.amplitudes[:M])\n",
    "print()\n",
    "\n",
    "# Generate amplitudes manually\n",
    "n = np.array([i for i in range(M)])\n",
    "test_phase = np.exp(1j*n*phase)\n",
    "test_phase = ( 1/np.linalg.norm(test_phase) )*test_phase\n",
    "print(test_phase)"
   ]
  },
  {
   "cell_type": "markdown",
   "metadata": {},
   "source": [
    "* Looks like we have agreement between the phases generated by our function and by the phases generated manually.\n",
    "* Now we have to apply the quantum fourier transform."
   ]
  },
  {
   "cell_type": "code",
   "execution_count": 26,
   "metadata": {
    "collapsed": false
   },
   "outputs": [
    {
     "name": "stdout",
     "output_type": "stream",
     "text": [
      "(0.1533450483-0.0804816899j)|000000> + (0.7116575508-0.575103406j)|000001> + (-0.1763454301+0.2115985868j)|000010> + (-0.0581965501+0.1069278128j)|000011> + (-0.0238336792+0.0764849656j)|000100> + (-0.0064857834+0.061116071j)|000101> + (0.0046566958+0.0512446958j)|000110> + (0.0129539301+0.0438939877j)|000111> + (0.0198369549+0.0377961598j)|001000> + (0.0260766078+0.0322683097j)|001001> + (0.0322047136+0.0268392817j)|001010> + (0.0387154465+0.0210712757j)|001011> + (0.0462367736+0.0144079613j)|001100> + (0.0558141655+0.0059231325j)|001101> + (0.0696435489-0.0063286321j)|001110> + (0.0937200069-0.0276585126j)|001111>\n",
      "\n",
      "State with the highest magnitude is: 0001\n"
     ]
    }
   ],
   "source": [
    "# Perform QFT\n",
    "p.inst( qft([i for i in range(n_qubits)]) )\n",
    "wfn = WavefunctionSimulator().wavefunction(p)\n",
    "print(wfn)\n",
    "print()\n",
    "\n",
    "# Print out the first n_qubits\n",
    "max_idx = np.argmax(np.abs(wfn.amplitudes))\n",
    "print(\"State with the highest magnitude is:\", np.binary_repr(max_idx, width=n_qubits))"
   ]
  },
  {
   "cell_type": "code",
   "execution_count": 27,
   "metadata": {
    "collapsed": false
   },
   "outputs": [
    {
     "data": {
      "text/plain": [
       "'0.0001'"
      ]
     },
     "execution_count": 27,
     "metadata": {},
     "output_type": "execute_result"
    }
   ],
   "source": [
    "qch.getBinFrac(f, n_qubits)"
   ]
  },
  {
   "cell_type": "markdown",
   "metadata": {},
   "source": [
    "* Good news, it looks like we get the right reading\n",
    "* Now we need to generalize and package everything into the right function"
   ]
  },
  {
   "cell_type": "markdown",
   "metadata": {},
   "source": [
    "### Testing library function: `initializePEA`"
   ]
  },
  {
   "cell_type": "code",
   "execution_count": 28,
   "metadata": {
    "collapsed": false,
    "scrolled": false
   },
   "outputs": [
    {
     "name": "stdout",
     "output_type": "stream",
     "text": [
      "[ 0.25      +4.85722573e-17j  0.22136401-1.16180793e-01j\n",
      "  0.14201619-2.05745966e-01j  0.03013417-2.48177219e-01j\n",
      " -0.08865122-2.33754061e-01j -0.18712769-1.65780665e-01j\n",
      " -0.24273545-5.98289161e-02j -0.24273545+5.98289161e-02j\n",
      " -0.18712769+1.65780665e-01j -0.08865122+2.33754061e-01j\n",
      "  0.03013417+2.48177219e-01j  0.14201619+2.05745966e-01j\n",
      "  0.22136401+1.16180793e-01j  0.25      -1.94289029e-16j\n",
      "  0.22136401-1.16180793e-01j  0.14201619-2.05745966e-01j]\n",
      "\n",
      "[ 0.25      +0.00000000e+00j  0.22136401-1.16180793e-01j\n",
      "  0.14201619-2.05745966e-01j  0.03013417-2.48177219e-01j\n",
      " -0.08865122-2.33754061e-01j -0.18712769-1.65780665e-01j\n",
      " -0.24273545-5.98289161e-02j -0.24273545+5.98289161e-02j\n",
      " -0.18712769+1.65780665e-01j -0.08865122+2.33754061e-01j\n",
      "  0.03013417+2.48177219e-01j  0.14201619+2.05745966e-01j\n",
      "  0.22136401+1.16180793e-01j  0.25      +6.12323400e-17j\n",
      "  0.22136401-1.16180793e-01j  0.14201619-2.05745966e-01j]\n",
      "\n",
      "[ 0.-0.j  0.-0.j  0.-0.j  0.-0.j  0.-0.j  0.-0.j -0.-0.j -0.-0.j -0.-0.j\n",
      " -0.-0.j -0.-0.j -0.-0.j -0.+0.j -0.+0.j  0.+0.j  0.+0.j]\n"
     ]
    }
   ],
   "source": [
    "# Setup inputs to function\n",
    "n_qubits = 4\n",
    "a = [i for i in range(n_qubits)]\n",
    "c = [n_qubits + 1]\n",
    "t = [n_qubits + 2]\n",
    "M = 2**n_qubits\n",
    "f = 1/13\n",
    "phase = -2*np.pi*f\n",
    "Q = {\"delta\": phase}\n",
    "U = llqca.controlGate(c, [0], Q)\n",
    "\n",
    "# Run function\n",
    "p = hlqca.initializePEA(U, a, c, t)\n",
    "\n",
    "# Print out the relevant amplitudes\n",
    "wfn = WavefunctionSimulator().wavefunction(p)\n",
    "print(wfn.amplitudes[:2**n_qubits])\n",
    "print()\n",
    "\n",
    "# Generate amplitudes manually\n",
    "n = np.array([i for i in range(2**n_qubits)])\n",
    "test_phase = np.exp(1j*n*phase)\n",
    "test_phase = ( 1/np.linalg.norm(test_phase) )*test_phase\n",
    "print(test_phase)\n",
    "print()\n",
    "\n",
    "# Print out difference between amplitudes\n",
    "diff = (test_phase - wfn.amplitudes[:2**n_qubits])\n",
    "diff = np.around(diff, decimals=7)\n",
    "print(diff)"
   ]
  },
  {
   "cell_type": "markdown",
   "metadata": {},
   "source": [
    "* Good, it looks like our manual generation of the inital superposition gives the same answer as when we do it using our quantum algorithm."
   ]
  },
  {
   "cell_type": "markdown",
   "metadata": {},
   "source": [
    "### See if we can accurately find phase with `initializePEA`"
   ]
  },
  {
   "cell_type": "code",
   "execution_count": 70,
   "metadata": {
    "collapsed": false
   },
   "outputs": [
    {
     "name": "stdout",
     "output_type": "stream",
     "text": [
      "(0.1533450483-0.0804816899j)|0000000> + (0.7116575508-0.575103406j)|0000010> + (-0.1763454301+0.2115985868j)|0000100> + (-0.0581965501+0.1069278128j)|0000110> + (-0.0238336792+0.0764849656j)|0001000> + (-0.0064857834+0.061116071j)|0001010> + (0.0046566958+0.0512446958j)|0001100> + (0.0129539301+0.0438939877j)|0001110> + (0.0198369549+0.0377961598j)|0010000> + (0.0260766078+0.0322683097j)|0010010> + (0.0322047136+0.0268392817j)|0010100> + (0.0387154465+0.0210712757j)|0010110> + (0.0462367736+0.0144079613j)|0011000> + (0.0558141655+0.0059231325j)|0011010> + (0.0696435489-0.0063286321j)|0011100> + (0.0937200069-0.0276585126j)|0011110>\n",
      "\n",
      "State with the highest magnitude is: 0000010\n"
     ]
    }
   ],
   "source": [
    "# Setup inputs to function\n",
    "n_qubits = 4\n",
    "a = [i + 1 for i in range(n_qubits)]\n",
    "c = [n_qubits + 1]\n",
    "t = [n_qubits + 2]\n",
    "M = 2**n_qubits\n",
    "f = 1/13\n",
    "phase = -2*np.pi*f\n",
    "Q = {\"delta\": phase}\n",
    "U = llqca.controlGate(c, [0], Q)\n",
    "\n",
    "# Run function\n",
    "p = hlqca.initializePEA(U, a, c, t)\n",
    "\n",
    "# Perform QFT\n",
    "p.inst( qft([i + 1 for i in range(n_qubits)]) )\n",
    "wfn = WavefunctionSimulator().wavefunction(p)\n",
    "print(wfn)\n",
    "print()\n",
    "\n",
    "# Print out the first n_qubits\n",
    "max_idx = np.argmax(np.abs(wfn.amplitudes))\n",
    "print(\"State with the highest magnitude is:\", np.binary_repr(max_idx, width=7))"
   ]
  },
  {
   "cell_type": "code",
   "execution_count": 69,
   "metadata": {
    "collapsed": false
   },
   "outputs": [
    {
     "data": {
      "text/plain": [
       "'0.0001'"
      ]
     },
     "execution_count": 69,
     "metadata": {},
     "output_type": "execute_result"
    }
   ],
   "source": [
    "qch.getBinFrac(f, n_qubits)"
   ]
  },
  {
   "cell_type": "markdown",
   "metadata": {},
   "source": [
    "* Success! Note that our register qubits (the ones that tell us what the phase is) are in qubit places 0, 2, 3,  and 4, so we have to read those off when comparing to the binary representation of our frequency"
   ]
  },
  {
   "cell_type": "markdown",
   "metadata": {},
   "source": [
    "### Testing out measurement"
   ]
  },
  {
   "cell_type": "markdown",
   "metadata": {},
   "source": [
    " * One way to measure is by using the `run_and_measure()` function.\n",
    " * For this, you need a complete program.\n",
    " * The result of this function is to give you back a dictionary of arrays, where each qubit location is held as an array whose $i$th value is the value of that qubit on the $i$th measurement. "
   ]
  },
  {
   "cell_type": "code",
   "execution_count": 34,
   "metadata": {
    "collapsed": false
   },
   "outputs": [
    {
     "data": {
      "text/plain": [
       "{0: array([1, 1, 1, 1, 1, 1, 1, 1, 1, 1]),\n",
       " 1: array([0, 0, 0, 0, 0, 0, 0, 0, 0, 0]),\n",
       " 2: array([0, 0, 0, 0, 0, 0, 0, 0, 0, 0]),\n",
       " 3: array([0, 0, 0, 0, 0, 0, 0, 0, 0, 0]),\n",
       " 4: array([0, 0, 0, 0, 0, 0, 0, 0, 0, 0])}"
      ]
     },
     "execution_count": 34,
     "metadata": {},
     "output_type": "execute_result"
    }
   ],
   "source": [
    "qubit = 0\n",
    "p = Program(X(qubit))\n",
    "qc = get_qc('5q-qvm')\n",
    "\n",
    "bitstrings = qc.run_and_measure(p, trials=10)\n",
    "bitstrings"
   ]
  },
  {
   "cell_type": "code",
   "execution_count": 35,
   "metadata": {
    "collapsed": false
   },
   "outputs": [
    {
     "data": {
      "text/plain": [
       "{0: array([1, 0, 1, 1, 1, 1, 1, 1, 1, 1]),\n",
       " 1: array([0, 0, 1, 0, 0, 0, 0, 0, 0, 0]),\n",
       " 2: array([0, 0, 0, 0, 0, 0, 0, 0, 0, 0]),\n",
       " 3: array([0, 0, 0, 0, 0, 0, 0, 0, 0, 0]),\n",
       " 4: array([0, 0, 0, 0, 0, 0, 0, 0, 0, 0]),\n",
       " 5: array([0, 0, 0, 0, 0, 0, 0, 0, 0, 0]),\n",
       " 6: array([0, 0, 0, 0, 0, 0, 0, 0, 0, 0])}"
      ]
     },
     "execution_count": 35,
     "metadata": {},
     "output_type": "execute_result"
    }
   ],
   "source": [
    "p = hlqca.initializePEA(U, a, t)\n",
    "p += qft(a)\n",
    "\n",
    "qc = get_qc('7q-qvm')\n",
    "\n",
    "bitstrings = qc.run_and_measure(p, trials=10)\n",
    "bitstrings"
   ]
  },
  {
   "cell_type": "markdown",
   "metadata": {},
   "source": [
    " * Additionally, we can introduce measurement like a gate\n",
    " * To do this, we first need to allocate classical memory.\n",
    " * Then, we use a MEASURE gate to measure the qubit and put the corresponding measurement into classical memory."
   ]
  },
  {
   "cell_type": "code",
   "execution_count": 36,
   "metadata": {
    "collapsed": false
   },
   "outputs": [
    {
     "name": "stdout",
     "output_type": "stream",
     "text": [
      "DECLARE ro BIT[2]\n",
      "H 0\n",
      "CNOT 0 1\n",
      "MEASURE 0 ro[0]\n",
      "MEASURE 1 ro[1]\n",
      "\n"
     ]
    }
   ],
   "source": [
    "program = Program()\n",
    "ro = program.declare('ro', memory_type='BIT', memory_size=2)\n",
    "program += H(0)\n",
    "program += CNOT(0, 1)\n",
    "program += MEASURE(0, ro[0])\n",
    "program += MEASURE(1, ro[1])\n",
    "print(program)"
   ]
  },
  {
   "cell_type": "code",
   "execution_count": 37,
   "metadata": {
    "collapsed": false
   },
   "outputs": [
    {
     "name": "stdout",
     "output_type": "stream",
     "text": [
      "[[0 0]]\n",
      "[[1 1]]\n",
      "[[1 1]]\n",
      "[[0 0]]\n",
      "[[0 0]]\n",
      "[[0 0]]\n",
      "[[0 0]]\n",
      "[[0 0]]\n",
      "[[0 0]]\n",
      "[[0 0]]\n"
     ]
    }
   ],
   "source": [
    "for i in range(10):\n",
    "    print(qc.run(program))"
   ]
  },
  {
   "cell_type": "markdown",
   "metadata": {},
   "source": [
    " * Note that you cannot get the resulting wavefunction after you have measured\n",
    " * I'm working on trying to get this to see if the wavefunctions collapse to the eigenvectors when we measure the phase to be the eigenvalues."
   ]
  },
  {
   "cell_type": "markdown",
   "metadata": {},
   "source": [
    "# Testing Phase Estimation Algorithms"
   ]
  },
  {
   "cell_type": "markdown",
   "metadata": {},
   "source": [
    "### We will complete this task as follows:\n",
    "1. Make Random Unitary `U`\n",
    "2. Find eigenvalues/eigenvectors\n",
    "3. Choose an eigenvector and normalize it\n",
    "4. Encode eigenvector into quantum state\n",
    "5. Run phase estimation algorithm using `U` as gate\n",
    "6. See with what proportion we get the correct phase"
   ]
  },
  {
   "cell_type": "markdown",
   "metadata": {},
   "source": [
    "### Find eigenvalues/eigenvectors"
   ]
  },
  {
   "cell_type": "code",
   "execution_count": 4,
   "metadata": {
    "collapsed": false
   },
   "outputs": [
    {
     "name": "stdout",
     "output_type": "stream",
     "text": [
      "Uv - wv given by:\n",
      "[-0.-0.j -0.-0.j]\n",
      "[-0.+0.j -0.+0.j]\n"
     ]
    }
   ],
   "source": [
    "seed = 41\n",
    "n_qubits = 1\n",
    "k = 2**n_qubits\n",
    "\n",
    "# Find eigenvectors/eigenvalues\n",
    "U = qch.genRandomUnitary(k, rand_seed=seed)\n",
    "w, v = np.linalg.eig(U)\n",
    "\n",
    "# Make sure they are correct\n",
    "print( r'Uv - wv given by:', end='\\n')\n",
    "for i in range(len(w)):\n",
    "    print((np.dot(U, v[:, i]) - w[i]*v[:, i]).round(10))"
   ]
  },
  {
   "cell_type": "markdown",
   "metadata": {},
   "source": [
    "### Choose eigenvector with lowest phase (ground state)"
   ]
  },
  {
   "cell_type": "code",
   "execution_count": 5,
   "metadata": {
    "collapsed": false
   },
   "outputs": [],
   "source": [
    "# Get phase angles as between 0 and 2*pi\n",
    "angles = np.abs(np.angle(w) - 2*np.pi)\n",
    "angles = angles % (2*np.pi)\n",
    "angles = -angles\n",
    "\n",
    "# Find where minimum eigenvector is\n",
    "min_place = np.argmin(np.abs(angles))"
   ]
  },
  {
   "cell_type": "code",
   "execution_count": 6,
   "metadata": {
    "collapsed": false
   },
   "outputs": [],
   "source": [
    "min_place = 1"
   ]
  },
  {
   "cell_type": "markdown",
   "metadata": {},
   "source": [
    "### Encode ground state eigenvector into quantum computer"
   ]
  },
  {
   "cell_type": "code",
   "execution_count": 7,
   "metadata": {
    "collapsed": false
   },
   "outputs": [],
   "source": [
    "p = create_arbitrary_state(v[:, min_place])"
   ]
  },
  {
   "cell_type": "markdown",
   "metadata": {},
   "source": [
    "### Make controlled unitary gate"
   ]
  },
  {
   "cell_type": "code",
   "execution_count": 21,
   "metadata": {
    "collapsed": false
   },
   "outputs": [
    {
     "data": {
      "text/html": [
       "<div>\n",
       "<table border=\"1\" class=\"dataframe\">\n",
       "  <thead>\n",
       "    <tr style=\"text-align: right;\">\n",
       "      <th></th>\n",
       "      <th>0</th>\n",
       "      <th>1</th>\n",
       "      <th>2</th>\n",
       "      <th>3</th>\n",
       "    </tr>\n",
       "  </thead>\n",
       "  <tbody>\n",
       "    <tr>\n",
       "      <th>0</th>\n",
       "      <td>(1+0j)</td>\n",
       "      <td>0j</td>\n",
       "      <td>0j</td>\n",
       "      <td>0j</td>\n",
       "    </tr>\n",
       "    <tr>\n",
       "      <th>1</th>\n",
       "      <td>0j</td>\n",
       "      <td>(1+0j)</td>\n",
       "      <td>0j</td>\n",
       "      <td>0j</td>\n",
       "    </tr>\n",
       "    <tr>\n",
       "      <th>2</th>\n",
       "      <td>0j</td>\n",
       "      <td>0j</td>\n",
       "      <td>(-0.2586868266348876-0.23220857632306197j)</td>\n",
       "      <td>(0.7256288913141814+0.5938206925476239j)</td>\n",
       "    </tr>\n",
       "    <tr>\n",
       "      <th>3</th>\n",
       "      <td>0j</td>\n",
       "      <td>0j</td>\n",
       "      <td>(-0.34006294769575424-0.8737948812004237j)</td>\n",
       "      <td>(-0.14073663926629115-0.31785672174808843j)</td>\n",
       "    </tr>\n",
       "  </tbody>\n",
       "</table>\n",
       "</div>"
      ],
      "text/plain": [
       "        0       1                                           2  \\\n",
       "0  (1+0j)      0j                                          0j   \n",
       "1      0j  (1+0j)                                          0j   \n",
       "2      0j      0j  (-0.2586868266348876-0.23220857632306197j)   \n",
       "3      0j      0j  (-0.34006294769575424-0.8737948812004237j)   \n",
       "\n",
       "                                             3  \n",
       "0                                           0j  \n",
       "1                                           0j  \n",
       "2     (0.7256288913141814+0.5938206925476239j)  \n",
       "3  (-0.14073663926629115-0.31785672174808843j)  "
      ]
     },
     "execution_count": 21,
     "metadata": {},
     "output_type": "execute_result"
    }
   ],
   "source": [
    "cU = np.eye(2*k, dtype=np.complex_)\n",
    "cU[k:, k:] = U\n",
    "pd.DataFrame(cU)"
   ]
  },
  {
   "cell_type": "markdown",
   "metadata": {},
   "source": [
    "* This seems right -- should send $\\ket{10} \\to \\ket{1}U\\ket{0}$ and $\\ket{11} \\to \\ket{1}U\\ket{1}$, and leave alone $\\ket{00}$ and $\\ket{01}$. "
   ]
  },
  {
   "cell_type": "code",
   "execution_count": 37,
   "metadata": {
    "collapsed": false
   },
   "outputs": [
    {
     "data": {
      "text/html": [
       "<div>\n",
       "<table border=\"1\" class=\"dataframe\">\n",
       "  <thead>\n",
       "    <tr style=\"text-align: right;\">\n",
       "      <th></th>\n",
       "      <th>0</th>\n",
       "      <th>1</th>\n",
       "      <th>2</th>\n",
       "      <th>3</th>\n",
       "    </tr>\n",
       "  </thead>\n",
       "  <tbody>\n",
       "    <tr>\n",
       "      <th>0</th>\n",
       "      <td>(-0.07174065688688702-0.2468320681669116j)</td>\n",
       "      <td>(-0.1477469521304042+0.1356961861184421j)</td>\n",
       "      <td>(0.08990577351192008+0.7105604186011794j)</td>\n",
       "      <td>(-0.18651078300970686-0.5881489290227553j)</td>\n",
       "    </tr>\n",
       "    <tr>\n",
       "      <th>1</th>\n",
       "      <td>(-0.09273630297210536-0.07499332466215142j)</td>\n",
       "      <td>(-0.14276164722506038-0.7933067602930793j)</td>\n",
       "      <td>(0.4675950155873379+0.02674919383251491j)</td>\n",
       "      <td>(0.3254613148420397-0.10379686936775741j)</td>\n",
       "    </tr>\n",
       "    <tr>\n",
       "      <th>2</th>\n",
       "      <td>(0.1047602321863669+0.933977136166032j)</td>\n",
       "      <td>(-0.07271142122596802+0.01897010018930813j)</td>\n",
       "      <td>(0.08426341984165614+0.3038002228500424j)</td>\n",
       "      <td>(0.10232423550993908-0.03464157752792835j)</td>\n",
       "    </tr>\n",
       "    <tr>\n",
       "      <th>3</th>\n",
       "      <td>(0.15436069356170307+0.11219610864719114j)</td>\n",
       "      <td>(0.01261332069345078-0.5515749885801228j)</td>\n",
       "      <td>(-0.409770473271461-0.018801205851324845j)</td>\n",
       "      <td>(-0.6980586211474948-0.060328939461719744j)</td>\n",
       "    </tr>\n",
       "  </tbody>\n",
       "</table>\n",
       "</div>"
      ],
      "text/plain": [
       "                                             0  \\\n",
       "0   (-0.07174065688688702-0.2468320681669116j)   \n",
       "1  (-0.09273630297210536-0.07499332466215142j)   \n",
       "2      (0.1047602321863669+0.933977136166032j)   \n",
       "3   (0.15436069356170307+0.11219610864719114j)   \n",
       "\n",
       "                                             1  \\\n",
       "0    (-0.1477469521304042+0.1356961861184421j)   \n",
       "1   (-0.14276164722506038-0.7933067602930793j)   \n",
       "2  (-0.07271142122596802+0.01897010018930813j)   \n",
       "3    (0.01261332069345078-0.5515749885801228j)   \n",
       "\n",
       "                                            2  \\\n",
       "0   (0.08990577351192008+0.7105604186011794j)   \n",
       "1   (0.4675950155873379+0.02674919383251491j)   \n",
       "2   (0.08426341984165614+0.3038002228500424j)   \n",
       "3  (-0.409770473271461-0.018801205851324845j)   \n",
       "\n",
       "                                             3  \n",
       "0   (-0.18651078300970686-0.5881489290227553j)  \n",
       "1    (0.3254613148420397-0.10379686936775741j)  \n",
       "2   (0.10232423550993908-0.03464157752792835j)  \n",
       "3  (-0.6980586211474948-0.060328939461719744j)  "
      ]
     },
     "execution_count": 37,
     "metadata": {},
     "output_type": "execute_result"
    }
   ],
   "source": [
    "n_qubits = 2\n",
    "k = 2**n_qubits\n",
    "U = qch.genRandomUnitary(k, rand_seed=seed)\n",
    "pd.DataFrame(U)"
   ]
  },
  {
   "cell_type": "code",
   "execution_count": 45,
   "metadata": {
    "collapsed": false
   },
   "outputs": [
    {
     "data": {
      "text/plain": [
       "<module 'HighLevelQCAlgorithms' from 'C:\\\\Users\\\\Lucas\\\\Documents\\\\Senior Experience\\\\Simulation Code\\\\HighLevelQCAlgorithms.py'>"
      ]
     },
     "execution_count": 45,
     "metadata": {},
     "output_type": "execute_result"
    }
   ],
   "source": [
    "reload(hlqca)"
   ]
  },
  {
   "cell_type": "code",
   "execution_count": 53,
   "metadata": {
    "collapsed": false
   },
   "outputs": [],
   "source": [
    "n_qubits = 2\n",
    "t = [[n_qubits], [n_qubits + 1]]\n",
    "U = np.eye(2**n_qubits)\n",
    "\n",
    "P = hlqca.permutationMatrix(2**n_qubits)\n",
    "gray_code_U = P@U@P.T\n",
    "\n",
    "m = 0\n",
    "v = gray_code_U[:, m]\n",
    "\n",
    "trimmed_v, nonzero_places = hlqca.parseVector(v, n_qubits)\n",
    "gc_basis = hlqca.getGraycodeBasis(n_qubits, nonzero_places)\n",
    "theta, phi = hlqca.calcAmplitudesPhases(trimmed_v)\n",
    "\n",
    "p = Program()\n",
    "\n",
    "# Change global phase so that last basis vector has no phase\n",
    "# a, b, z = getControlStrings(gc_basis[-2], gc_basis[-1], n_qubits)\n",
    "# Q = {'delta': phi[-1]/2, 'alpha': -phi[-1]/2}\n",
    "# p.inst( llqca.kControlGate(z, Q, a, b, t) )"
   ]
  },
  {
   "cell_type": "code",
   "execution_count": 74,
   "metadata": {
    "collapsed": false
   },
   "outputs": [
    {
     "name": "stdout",
     "output_type": "stream",
     "text": [
      "Help on function getControlStrings in module HighLevelQCAlgorithms:\n",
      "\n",
      "getControlStrings(zero_string, one_string, n_qubits)\n",
      "    Return list of indices representing the control register, the target\n",
      "    register, and the binary control string (with the bit denoting Q vs. XQX),\n",
      "    given the \"zero string\" and the \"one string\". \n",
      "    \n",
      "    Here the \"zero string\" is the string representing the basis vector which\n",
      "    the gate will treat as 0, and the \"one string\" it will treat as 1. All \n",
      "    other basis vectors will remain unchanged. The \"zero string\" and the\n",
      "    \"one string\" should differ by exactly one qubit, and that qubit will be\n",
      "    the target qubit. If the \"zero string\" has a 0 in the target qubit place,\n",
      "    a k-controlled gate will be applied. If it has a 1 in the target qubit\n",
      "    place, a k-controlled gate XQX will be applied.\n",
      "    \n",
      "    Parameters\n",
      "    ----------\n",
      "    zero_string: integer\n",
      "        An integer whose binary representation is the \"zero string\".\n",
      "    one_string: integer\n",
      "        An integer whose binary representation is the \"one string\".\n",
      "            \n",
      "    Returns\n",
      "    -------\n",
      "    a: list\n",
      "        Length-k list holding the locations of the control register.\n",
      "    b: list\n",
      "        Length-1 list holding the location of the target qubit.\n",
      "    z: list\n",
      "        Length-2 list of lists, where the first sublist is length-k and holds\n",
      "        the control bitstring pattern, and the second sublist is length-1 and\n",
      "        holds the extra control bit.\n",
      "\n"
     ]
    }
   ],
   "source": [
    "help(hlqca.getControlStrings)"
   ]
  },
  {
   "cell_type": "code",
   "execution_count": 65,
   "metadata": {
    "collapsed": false
   },
   "outputs": [],
   "source": [
    "new_v = np.zeros(v.shape, dtype=np.complex_)"
   ]
  },
  {
   "cell_type": "code",
   "execution_count": 69,
   "metadata": {
    "collapsed": false
   },
   "outputs": [],
   "source": [
    "new_v[0] = 1j\n",
    "trimmed_v, nonzero_places = hlqca.parseVector(new_v, n_qubits)\n",
    "gc_basis = hlqca.getGraycodeBasis(n_qubits, nonzero_places)\n",
    "theta, phi = hlqca.calcAmplitudesPhases(trimmed_v)\n",
    "\n",
    "p = Program()"
   ]
  },
  {
   "cell_type": "code",
   "execution_count": 81,
   "metadata": {
    "collapsed": false
   },
   "outputs": [
    {
     "data": {
      "text/plain": [
       "True"
      ]
     },
     "execution_count": 81,
     "metadata": {},
     "output_type": "execute_result"
    }
   ],
   "source": [
    "nonzero_places[0] == 0"
   ]
  },
  {
   "cell_type": "code",
   "execution_count": 51,
   "metadata": {
    "collapsed": false
   },
   "outputs": [
    {
     "name": "stdout",
     "output_type": "stream",
     "text": [
      "[1. 0. 0. 0.]\n"
     ]
    }
   ],
   "source": [
    "print(v)"
   ]
  },
  {
   "cell_type": "code",
   "execution_count": 46,
   "metadata": {
    "collapsed": false
   },
   "outputs": [
    {
     "name": "stdout",
     "output_type": "stream",
     "text": [
      "0\n"
     ]
    },
    {
     "ename": "IndexError",
     "evalue": "index -2 is out of bounds for axis 0 with size 1",
     "output_type": "error",
     "traceback": [
      "\u001b[1;31m---------------------------------------------------------------------------\u001b[0m",
      "\u001b[1;31mIndexError\u001b[0m                                Traceback (most recent call last)",
      "\u001b[1;32m<ipython-input-46-aa69c7aa8c30>\u001b[0m in \u001b[0;36m<module>\u001b[1;34m\u001b[0m\n\u001b[0;32m      3\u001b[0m \u001b[0mt\u001b[0m \u001b[1;33m=\u001b[0m \u001b[1;33m[\u001b[0m\u001b[1;33m[\u001b[0m\u001b[0mn_qubits\u001b[0m\u001b[1;33m]\u001b[0m\u001b[1;33m,\u001b[0m \u001b[1;33m[\u001b[0m\u001b[0mn_qubits\u001b[0m \u001b[1;33m+\u001b[0m \u001b[1;36m1\u001b[0m\u001b[1;33m]\u001b[0m\u001b[1;33m]\u001b[0m\u001b[1;33m\u001b[0m\u001b[0m\n\u001b[0;32m      4\u001b[0m \u001b[1;33m\u001b[0m\u001b[0m\n\u001b[1;32m----> 5\u001b[1;33m \u001b[0mU_gate\u001b[0m \u001b[1;33m=\u001b[0m \u001b[0mhlqca\u001b[0m\u001b[1;33m.\u001b[0m\u001b[0mgenNQubitTransform\u001b[0m\u001b[1;33m(\u001b[0m\u001b[0mnp\u001b[0m\u001b[1;33m.\u001b[0m\u001b[0meye\u001b[0m\u001b[1;33m(\u001b[0m\u001b[1;36m2\u001b[0m\u001b[1;33m**\u001b[0m\u001b[0mn_qubits\u001b[0m\u001b[1;33m)\u001b[0m\u001b[1;33m,\u001b[0m \u001b[0mn_qubits\u001b[0m\u001b[1;33m,\u001b[0m \u001b[0mt\u001b[0m\u001b[1;33m)\u001b[0m\u001b[1;33m\u001b[0m\u001b[0m\n\u001b[0m",
      "\u001b[1;32m~\\Documents\\Senior Experience\\Simulation Code\\HighLevelQCAlgorithms.py\u001b[0m in \u001b[0;36mgenNQubitTransform\u001b[1;34m(U, n_qubits, t)\u001b[0m\n\u001b[0;32m    140\u001b[0m         \u001b[0mprint\u001b[0m\u001b[1;33m(\u001b[0m\u001b[0mm\u001b[0m\u001b[1;33m)\u001b[0m\u001b[1;33m\u001b[0m\u001b[0m\n\u001b[0;32m    141\u001b[0m         \u001b[0mv\u001b[0m \u001b[1;33m=\u001b[0m \u001b[0mgray_code_U\u001b[0m\u001b[1;33m[\u001b[0m\u001b[1;33m:\u001b[0m\u001b[1;33m,\u001b[0m \u001b[0mm\u001b[0m\u001b[1;33m]\u001b[0m\u001b[1;33m\u001b[0m\u001b[0m\n\u001b[1;32m--> 142\u001b[1;33m         \u001b[0mp\u001b[0m \u001b[1;33m=\u001b[0m \u001b[0mgenCm\u001b[0m\u001b[1;33m(\u001b[0m\u001b[0mv\u001b[0m\u001b[1;33m,\u001b[0m \u001b[0mn_qubits\u001b[0m\u001b[1;33m,\u001b[0m \u001b[0mt\u001b[0m\u001b[1;33m)\u001b[0m\u001b[1;33m.\u001b[0m\u001b[0minst\u001b[0m\u001b[1;33m(\u001b[0m\u001b[0mp\u001b[0m\u001b[1;33m)\u001b[0m\u001b[1;33m\u001b[0m\u001b[0m\n\u001b[0m\u001b[0;32m    143\u001b[0m         \u001b[0mWm\u001b[0m \u001b[1;33m=\u001b[0m \u001b[0mgenWmMat\u001b[0m\u001b[1;33m(\u001b[0m\u001b[0mv\u001b[0m\u001b[1;33m,\u001b[0m \u001b[0mn_qubits\u001b[0m\u001b[1;33m)\u001b[0m\u001b[1;33m\u001b[0m\u001b[0m\n\u001b[0;32m    144\u001b[0m         \u001b[0mgray_code_U\u001b[0m \u001b[1;33m=\u001b[0m \u001b[0mWm\u001b[0m\u001b[1;33m@\u001b[0m\u001b[0mgray_code_U\u001b[0m\u001b[1;33m\u001b[0m\u001b[0m\n",
      "\u001b[1;32m~\\Documents\\Senior Experience\\Simulation Code\\HighLevelQCAlgorithms.py\u001b[0m in \u001b[0;36mgenCm\u001b[1;34m(v, n_qubits, t)\u001b[0m\n\u001b[0;32m    181\u001b[0m \u001b[1;33m\u001b[0m\u001b[0m\n\u001b[0;32m    182\u001b[0m     \u001b[1;31m# Change global phase so that last basis vector has phase\u001b[0m\u001b[1;33m\u001b[0m\u001b[1;33m\u001b[0m\u001b[0m\n\u001b[1;32m--> 183\u001b[1;33m     \u001b[0ma\u001b[0m\u001b[1;33m,\u001b[0m \u001b[0mb\u001b[0m\u001b[1;33m,\u001b[0m \u001b[0mz\u001b[0m \u001b[1;33m=\u001b[0m \u001b[0mgetControlStrings\u001b[0m\u001b[1;33m(\u001b[0m\u001b[0mgc_basis\u001b[0m\u001b[1;33m[\u001b[0m\u001b[1;33m-\u001b[0m\u001b[1;36m2\u001b[0m\u001b[1;33m]\u001b[0m\u001b[1;33m,\u001b[0m \u001b[0mgc_basis\u001b[0m\u001b[1;33m[\u001b[0m\u001b[1;33m-\u001b[0m\u001b[1;36m1\u001b[0m\u001b[1;33m]\u001b[0m\u001b[1;33m,\u001b[0m \u001b[0mn_qubits\u001b[0m\u001b[1;33m)\u001b[0m\u001b[1;33m\u001b[0m\u001b[0m\n\u001b[0m\u001b[0;32m    184\u001b[0m     \u001b[0mQ\u001b[0m \u001b[1;33m=\u001b[0m \u001b[1;33m{\u001b[0m\u001b[1;34m'delta'\u001b[0m\u001b[1;33m:\u001b[0m \u001b[0mphi\u001b[0m\u001b[1;33m[\u001b[0m\u001b[1;33m-\u001b[0m\u001b[1;36m1\u001b[0m\u001b[1;33m]\u001b[0m\u001b[1;33m/\u001b[0m\u001b[1;36m2\u001b[0m\u001b[1;33m,\u001b[0m \u001b[1;34m'alpha'\u001b[0m\u001b[1;33m:\u001b[0m \u001b[1;33m-\u001b[0m\u001b[0mphi\u001b[0m\u001b[1;33m[\u001b[0m\u001b[1;33m-\u001b[0m\u001b[1;36m1\u001b[0m\u001b[1;33m]\u001b[0m\u001b[1;33m/\u001b[0m\u001b[1;36m2\u001b[0m\u001b[1;33m}\u001b[0m\u001b[1;33m\u001b[0m\u001b[0m\n\u001b[0;32m    185\u001b[0m     \u001b[0mp\u001b[0m\u001b[1;33m.\u001b[0m\u001b[0minst\u001b[0m\u001b[1;33m(\u001b[0m \u001b[0mllqca\u001b[0m\u001b[1;33m.\u001b[0m\u001b[0mkControlGate\u001b[0m\u001b[1;33m(\u001b[0m\u001b[0mz\u001b[0m\u001b[1;33m,\u001b[0m \u001b[0mQ\u001b[0m\u001b[1;33m,\u001b[0m \u001b[0ma\u001b[0m\u001b[1;33m,\u001b[0m \u001b[0mb\u001b[0m\u001b[1;33m,\u001b[0m \u001b[0mt\u001b[0m\u001b[1;33m)\u001b[0m \u001b[1;33m)\u001b[0m\u001b[1;33m\u001b[0m\u001b[0m\n",
      "\u001b[1;31mIndexError\u001b[0m: index -2 is out of bounds for axis 0 with size 1"
     ]
    }
   ],
   "source": [
    "n_qubits = 2\n",
    "c = [1]\n",
    "t = [[n_qubits], [n_qubits + 1]]\n",
    "\n",
    "U_gate = hlqca.genNQubitTransform(np.eye(2**n_qubits), n_qubits, t)"
   ]
  },
  {
   "cell_type": "markdown",
   "metadata": {},
   "source": [
    "### Run phase estimation algorithm on $U$"
   ]
  },
  {
   "cell_type": "code",
   "execution_count": 120,
   "metadata": {
    "collapsed": false
   },
   "outputs": [
    {
     "ename": "Exception",
     "evalue": "c does not have appropriate length",
     "output_type": "error",
     "traceback": [
      "\u001b[1;31m---------------------------------------------------------------------------\u001b[0m",
      "\u001b[1;31mException\u001b[0m                                 Traceback (most recent call last)",
      "\u001b[1;32m<ipython-input-120-ca4f0ef69f3a>\u001b[0m in \u001b[0;36m<module>\u001b[1;34m\u001b[0m\n\u001b[0;32m      3\u001b[0m \u001b[0mt\u001b[0m \u001b[1;33m=\u001b[0m \u001b[1;33m[\u001b[0m\u001b[1;33m[\u001b[0m\u001b[1;36m9\u001b[0m\u001b[1;33m]\u001b[0m\u001b[1;33m,\u001b[0m \u001b[1;33m[\u001b[0m\u001b[1;36m10\u001b[0m\u001b[1;33m]\u001b[0m\u001b[1;33m]\u001b[0m\u001b[1;33m\u001b[0m\u001b[0m\n\u001b[0;32m      4\u001b[0m \u001b[1;33m\u001b[0m\u001b[0m\n\u001b[1;32m----> 5\u001b[1;33m \u001b[0mU_gate\u001b[0m \u001b[1;33m=\u001b[0m \u001b[0mhlqca\u001b[0m\u001b[1;33m.\u001b[0m\u001b[0mgenNQubitTransform\u001b[0m\u001b[1;33m(\u001b[0m\u001b[0mU\u001b[0m\u001b[1;33m,\u001b[0m \u001b[0mn_qubits\u001b[0m\u001b[1;33m,\u001b[0m \u001b[0mt\u001b[0m\u001b[1;33m)\u001b[0m\u001b[1;33m\u001b[0m\u001b[0m\n\u001b[0m\u001b[0;32m      6\u001b[0m \u001b[0mp\u001b[0m \u001b[1;33m+=\u001b[0m \u001b[0mhlqca\u001b[0m\u001b[1;33m.\u001b[0m\u001b[0minitializePEA\u001b[0m\u001b[1;33m(\u001b[0m\u001b[0mU_gate\u001b[0m\u001b[1;33m,\u001b[0m \u001b[0ma\u001b[0m\u001b[1;33m,\u001b[0m \u001b[0mc\u001b[0m\u001b[1;33m,\u001b[0m \u001b[0mt\u001b[0m\u001b[1;33m[\u001b[0m\u001b[1;36m0\u001b[0m\u001b[1;33m]\u001b[0m\u001b[1;33m)\u001b[0m\u001b[1;33m\u001b[0m\u001b[0m\n\u001b[0;32m      7\u001b[0m \u001b[0mp\u001b[0m \u001b[1;33m+=\u001b[0m \u001b[0mqft\u001b[0m\u001b[1;33m(\u001b[0m\u001b[0ma\u001b[0m\u001b[1;33m)\u001b[0m\u001b[1;33m\u001b[0m\u001b[0m\n",
      "\u001b[1;32m~\\Documents\\Senior Experience\\Simulation Code\\HighLevelQCAlgorithms.py\u001b[0m in \u001b[0;36mgenNQubitTransform\u001b[1;34m(U, n_qubits, t)\u001b[0m\n\u001b[0;32m    139\u001b[0m     \u001b[1;32mfor\u001b[0m \u001b[0mm\u001b[0m \u001b[1;32min\u001b[0m \u001b[0mrange\u001b[0m\u001b[1;33m(\u001b[0m\u001b[1;36m2\u001b[0m\u001b[1;33m**\u001b[0m\u001b[0mn_qubits\u001b[0m\u001b[1;33m)\u001b[0m\u001b[1;33m:\u001b[0m\u001b[1;33m\u001b[0m\u001b[0m\n\u001b[0;32m    140\u001b[0m         \u001b[0mv\u001b[0m \u001b[1;33m=\u001b[0m \u001b[0mgray_code_U\u001b[0m\u001b[1;33m[\u001b[0m\u001b[1;33m:\u001b[0m\u001b[1;33m,\u001b[0m \u001b[0mm\u001b[0m\u001b[1;33m]\u001b[0m\u001b[1;33m\u001b[0m\u001b[0m\n\u001b[1;32m--> 141\u001b[1;33m         \u001b[0mp\u001b[0m \u001b[1;33m=\u001b[0m \u001b[0mgenCm\u001b[0m\u001b[1;33m(\u001b[0m\u001b[0mv\u001b[0m\u001b[1;33m,\u001b[0m \u001b[0mn_qubits\u001b[0m\u001b[1;33m,\u001b[0m \u001b[0mt\u001b[0m\u001b[1;33m)\u001b[0m\u001b[1;33m.\u001b[0m\u001b[0minst\u001b[0m\u001b[1;33m(\u001b[0m\u001b[0mp\u001b[0m\u001b[1;33m)\u001b[0m\u001b[1;33m\u001b[0m\u001b[0m\n\u001b[0m\u001b[0;32m    142\u001b[0m         \u001b[0mWm\u001b[0m \u001b[1;33m=\u001b[0m \u001b[0mgenWmMat\u001b[0m\u001b[1;33m(\u001b[0m\u001b[0mv\u001b[0m\u001b[1;33m,\u001b[0m \u001b[0mn_qubits\u001b[0m\u001b[1;33m)\u001b[0m\u001b[1;33m\u001b[0m\u001b[0m\n\u001b[0;32m    143\u001b[0m         \u001b[0mgray_code_U\u001b[0m \u001b[1;33m=\u001b[0m \u001b[0mWm\u001b[0m\u001b[1;33m@\u001b[0m\u001b[0mgray_code_U\u001b[0m\u001b[1;33m\u001b[0m\u001b[0m\n",
      "\u001b[1;32m~\\Documents\\Senior Experience\\Simulation Code\\HighLevelQCAlgorithms.py\u001b[0m in \u001b[0;36mgenCm\u001b[1;34m(v, n_qubits, t)\u001b[0m\n\u001b[0;32m    182\u001b[0m     \u001b[0ma\u001b[0m\u001b[1;33m,\u001b[0m \u001b[0mb\u001b[0m\u001b[1;33m,\u001b[0m \u001b[0mz\u001b[0m \u001b[1;33m=\u001b[0m \u001b[0mgetControlStrings\u001b[0m\u001b[1;33m(\u001b[0m\u001b[0mgc_basis\u001b[0m\u001b[1;33m[\u001b[0m\u001b[1;33m-\u001b[0m\u001b[1;36m2\u001b[0m\u001b[1;33m]\u001b[0m\u001b[1;33m,\u001b[0m \u001b[0mgc_basis\u001b[0m\u001b[1;33m[\u001b[0m\u001b[1;33m-\u001b[0m\u001b[1;36m1\u001b[0m\u001b[1;33m]\u001b[0m\u001b[1;33m,\u001b[0m \u001b[0mn_qubits\u001b[0m\u001b[1;33m)\u001b[0m\u001b[1;33m\u001b[0m\u001b[0m\n\u001b[0;32m    183\u001b[0m     \u001b[0mQ\u001b[0m \u001b[1;33m=\u001b[0m \u001b[1;33m{\u001b[0m\u001b[1;34m'delta'\u001b[0m\u001b[1;33m:\u001b[0m \u001b[0mphi\u001b[0m\u001b[1;33m[\u001b[0m\u001b[1;33m-\u001b[0m\u001b[1;36m1\u001b[0m\u001b[1;33m]\u001b[0m\u001b[1;33m/\u001b[0m\u001b[1;36m2\u001b[0m\u001b[1;33m,\u001b[0m \u001b[1;34m'alpha'\u001b[0m\u001b[1;33m:\u001b[0m \u001b[1;33m-\u001b[0m\u001b[0mphi\u001b[0m\u001b[1;33m[\u001b[0m\u001b[1;33m-\u001b[0m\u001b[1;36m1\u001b[0m\u001b[1;33m]\u001b[0m\u001b[1;33m/\u001b[0m\u001b[1;36m2\u001b[0m\u001b[1;33m}\u001b[0m\u001b[1;33m\u001b[0m\u001b[0m\n\u001b[1;32m--> 184\u001b[1;33m     \u001b[0mp\u001b[0m\u001b[1;33m.\u001b[0m\u001b[0minst\u001b[0m\u001b[1;33m(\u001b[0m \u001b[0mllqca\u001b[0m\u001b[1;33m.\u001b[0m\u001b[0mkControlGate\u001b[0m\u001b[1;33m(\u001b[0m\u001b[0mz\u001b[0m\u001b[1;33m,\u001b[0m \u001b[0mQ\u001b[0m\u001b[1;33m,\u001b[0m \u001b[0ma\u001b[0m\u001b[1;33m,\u001b[0m \u001b[0mb\u001b[0m\u001b[1;33m,\u001b[0m \u001b[0mt\u001b[0m\u001b[1;33m)\u001b[0m \u001b[1;33m)\u001b[0m\u001b[1;33m\u001b[0m\u001b[0m\n\u001b[0m\u001b[0;32m    185\u001b[0m \u001b[1;33m\u001b[0m\u001b[0m\n\u001b[0;32m    186\u001b[0m     \u001b[1;31m# For basis vectors 0 to n - 1, add amplitude and phase to make vector\u001b[0m\u001b[1;33m\u001b[0m\u001b[1;33m\u001b[0m\u001b[0m\n",
      "\u001b[1;32m~\\Documents\\Senior Experience\\Simulation Code\\LowLevelQCAlgorithms.py\u001b[0m in \u001b[0;36mkControlGate\u001b[1;34m(z, Q, a, b, t)\u001b[0m\n\u001b[0;32m    400\u001b[0m             \u001b[0mp\u001b[0m\u001b[1;33m.\u001b[0m\u001b[0minst\u001b[0m\u001b[1;33m(\u001b[0m\u001b[0mX\u001b[0m\u001b[1;33m(\u001b[0m\u001b[0ma\u001b[0m\u001b[1;33m[\u001b[0m\u001b[0mi\u001b[0m\u001b[1;33m]\u001b[0m\u001b[1;33m)\u001b[0m\u001b[1;33m)\u001b[0m\u001b[1;33m\u001b[0m\u001b[0m\n\u001b[0;32m    401\u001b[0m \u001b[1;33m\u001b[0m\u001b[0m\n\u001b[1;32m--> 402\u001b[1;33m     \u001b[0mp\u001b[0m\u001b[1;33m.\u001b[0m\u001b[0minst\u001b[0m\u001b[1;33m(\u001b[0m\u001b[0mAnd\u001b[0m\u001b[1;33m(\u001b[0m\u001b[0ma\u001b[0m\u001b[1;33m,\u001b[0m \u001b[0mt\u001b[0m\u001b[1;33m[\u001b[0m\u001b[1;36m0\u001b[0m\u001b[1;33m]\u001b[0m\u001b[1;33m,\u001b[0m \u001b[0mt\u001b[0m\u001b[1;33m[\u001b[0m\u001b[1;36m1\u001b[0m\u001b[1;33m]\u001b[0m\u001b[1;33m)\u001b[0m\u001b[1;33m)\u001b[0m\u001b[1;33m\u001b[0m\u001b[0m\n\u001b[0m\u001b[0;32m    403\u001b[0m     \u001b[0mp\u001b[0m\u001b[1;33m.\u001b[0m\u001b[0minst\u001b[0m\u001b[1;33m(\u001b[0m\u001b[0mcontrolGate\u001b[0m\u001b[1;33m(\u001b[0m\u001b[0mt\u001b[0m\u001b[1;33m[\u001b[0m\u001b[1;36m0\u001b[0m\u001b[1;33m]\u001b[0m\u001b[1;33m,\u001b[0m \u001b[0mb\u001b[0m\u001b[1;33m,\u001b[0m \u001b[0mQ\u001b[0m\u001b[1;33m)\u001b[0m\u001b[1;33m)\u001b[0m\u001b[1;33m\u001b[0m\u001b[0m\n\u001b[0;32m    404\u001b[0m     \u001b[0mp\u001b[0m\u001b[1;33m.\u001b[0m\u001b[0minst\u001b[0m\u001b[1;33m(\u001b[0m\u001b[0mAnd\u001b[0m\u001b[1;33m(\u001b[0m\u001b[0ma\u001b[0m\u001b[1;33m,\u001b[0m \u001b[0mt\u001b[0m\u001b[1;33m[\u001b[0m\u001b[1;36m0\u001b[0m\u001b[1;33m]\u001b[0m\u001b[1;33m,\u001b[0m \u001b[0mt\u001b[0m\u001b[1;33m[\u001b[0m\u001b[1;36m1\u001b[0m\u001b[1;33m]\u001b[0m\u001b[1;33m)\u001b[0m\u001b[1;33m)\u001b[0m\u001b[1;33m\u001b[0m\u001b[0m\n",
      "\u001b[1;32m~\\Documents\\Senior Experience\\Simulation Code\\LowLevelQCAlgorithms.py\u001b[0m in \u001b[0;36mAnd\u001b[1;34m(a, b, t)\u001b[0m\n\u001b[0;32m    173\u001b[0m         \u001b[0mj\u001b[0m \u001b[1;33m=\u001b[0m \u001b[0mk\u001b[0m \u001b[1;33m-\u001b[0m \u001b[1;36m2\u001b[0m \u001b[1;33m-\u001b[0m \u001b[0ml\u001b[0m\u001b[1;33m\u001b[0m\u001b[0m\n\u001b[0;32m    174\u001b[0m \u001b[1;33m\u001b[0m\u001b[0m\n\u001b[1;32m--> 175\u001b[1;33m         \u001b[0mp\u001b[0m\u001b[1;33m.\u001b[0m\u001b[0minst\u001b[0m\u001b[1;33m(\u001b[0m \u001b[0mAndTemp\u001b[0m\u001b[1;33m(\u001b[0m\u001b[0ma\u001b[0m\u001b[1;33m[\u001b[0m\u001b[0mk\u001b[0m\u001b[1;33m:\u001b[0m\u001b[1;33m(\u001b[0m\u001b[0mm\u001b[0m \u001b[1;33m-\u001b[0m \u001b[1;36m1\u001b[0m\u001b[1;33m)\u001b[0m \u001b[1;33m+\u001b[0m \u001b[1;36m1\u001b[0m\u001b[1;33m]\u001b[0m\u001b[1;33m,\u001b[0m \u001b[0mt\u001b[0m\u001b[1;33m,\u001b[0m \u001b[0ma\u001b[0m\u001b[1;33m[\u001b[0m\u001b[1;36m0\u001b[0m\u001b[1;33m:\u001b[0m\u001b[0mj\u001b[0m \u001b[1;33m+\u001b[0m \u001b[1;36m1\u001b[0m\u001b[1;33m]\u001b[0m\u001b[1;33m)\u001b[0m \u001b[1;33m)\u001b[0m\u001b[1;33m\u001b[0m\u001b[0m\n\u001b[0m\u001b[0;32m    176\u001b[0m         \u001b[0mp\u001b[0m\u001b[1;33m.\u001b[0m\u001b[0minst\u001b[0m\u001b[1;33m(\u001b[0m \u001b[0mAndTemp\u001b[0m\u001b[1;33m(\u001b[0m\u001b[0ma\u001b[0m\u001b[1;33m[\u001b[0m\u001b[1;36m0\u001b[0m\u001b[1;33m:\u001b[0m\u001b[1;33m(\u001b[0m\u001b[0mk\u001b[0m \u001b[1;33m-\u001b[0m \u001b[1;36m1\u001b[0m\u001b[1;33m)\u001b[0m \u001b[1;33m+\u001b[0m \u001b[1;36m1\u001b[0m\u001b[1;33m]\u001b[0m \u001b[1;33m+\u001b[0m \u001b[0mt\u001b[0m\u001b[1;33m,\u001b[0m \u001b[0mb\u001b[0m\u001b[1;33m,\u001b[0m \u001b[0ma\u001b[0m\u001b[1;33m[\u001b[0m\u001b[0mk\u001b[0m\u001b[1;33m:\u001b[0m\u001b[1;33m(\u001b[0m\u001b[0mk\u001b[0m \u001b[1;33m+\u001b[0m \u001b[0mj\u001b[0m \u001b[1;33m+\u001b[0m \u001b[0ml\u001b[0m\u001b[1;33m)\u001b[0m \u001b[1;33m+\u001b[0m \u001b[1;36m1\u001b[0m\u001b[1;33m]\u001b[0m\u001b[1;33m)\u001b[0m \u001b[1;33m)\u001b[0m\u001b[1;33m\u001b[0m\u001b[0m\n\u001b[0;32m    177\u001b[0m         \u001b[0mp\u001b[0m\u001b[1;33m.\u001b[0m\u001b[0minst\u001b[0m\u001b[1;33m(\u001b[0m \u001b[0mAndTemp\u001b[0m\u001b[1;33m(\u001b[0m\u001b[0ma\u001b[0m\u001b[1;33m[\u001b[0m\u001b[0mk\u001b[0m\u001b[1;33m:\u001b[0m\u001b[1;33m(\u001b[0m\u001b[0mm\u001b[0m \u001b[1;33m-\u001b[0m \u001b[1;36m1\u001b[0m\u001b[1;33m)\u001b[0m \u001b[1;33m+\u001b[0m \u001b[1;36m1\u001b[0m\u001b[1;33m]\u001b[0m\u001b[1;33m,\u001b[0m \u001b[0mt\u001b[0m\u001b[1;33m,\u001b[0m \u001b[0ma\u001b[0m\u001b[1;33m[\u001b[0m\u001b[1;36m0\u001b[0m\u001b[1;33m:\u001b[0m\u001b[0mj\u001b[0m \u001b[1;33m+\u001b[0m \u001b[1;36m1\u001b[0m\u001b[1;33m]\u001b[0m\u001b[1;33m)\u001b[0m \u001b[1;33m)\u001b[0m\u001b[1;33m\u001b[0m\u001b[0m\n",
      "\u001b[1;32m~\\Documents\\Senior Experience\\Simulation Code\\LowLevelQCAlgorithms.py\u001b[0m in \u001b[0;36mAndTemp\u001b[1;34m(a, b, c)\u001b[0m\n\u001b[0;32m     92\u001b[0m         \u001b[1;32mraise\u001b[0m \u001b[0mException\u001b[0m\u001b[1;33m(\u001b[0m\u001b[1;34m\"b does not have appropriate length\"\u001b[0m\u001b[1;33m)\u001b[0m\u001b[1;33m\u001b[0m\u001b[0m\n\u001b[0;32m     93\u001b[0m     \u001b[1;32mif\u001b[0m \u001b[0mlen\u001b[0m\u001b[1;33m(\u001b[0m\u001b[0mc\u001b[0m\u001b[1;33m)\u001b[0m \u001b[1;32mis\u001b[0m \u001b[1;32mnot\u001b[0m \u001b[0mm\u001b[0m \u001b[1;33m-\u001b[0m \u001b[1;36m2\u001b[0m\u001b[1;33m:\u001b[0m\u001b[1;33m\u001b[0m\u001b[0m\n\u001b[1;32m---> 94\u001b[1;33m         \u001b[1;32mraise\u001b[0m \u001b[0mException\u001b[0m\u001b[1;33m(\u001b[0m\u001b[1;34m\"c does not have appropriate length\"\u001b[0m\u001b[1;33m)\u001b[0m\u001b[1;33m\u001b[0m\u001b[0m\n\u001b[0m\u001b[0;32m     95\u001b[0m \u001b[1;33m\u001b[0m\u001b[0m\n\u001b[0;32m     96\u001b[0m     \u001b[1;32mif\u001b[0m \u001b[1;32mnot\u001b[0m \u001b[0mset\u001b[0m\u001b[1;33m(\u001b[0m\u001b[0ma\u001b[0m\u001b[1;33m)\u001b[0m\u001b[1;33m.\u001b[0m\u001b[0misdisjoint\u001b[0m\u001b[1;33m(\u001b[0m\u001b[0mb\u001b[0m\u001b[1;33m)\u001b[0m\u001b[1;33m:\u001b[0m\u001b[1;33m\u001b[0m\u001b[0m\n",
      "\u001b[1;31mException\u001b[0m: c does not have appropriate length"
     ]
    }
   ],
   "source": [
    "c = [4]\n",
    "a = [5, 6, 7, 8]\n",
    "t = [[9], [10]]\n",
    "\n",
    "U_gate = hlqca.genNQubitTransform(U, n_qubits, t)\n",
    "p += hlqca.initializePEA(U_gate, a, c, t[0])\n",
    "p += qft(a)\n",
    "wfn = WavefunctionSimulator().wavefunction(p)\n",
    "\n",
    "# Print out the relevant amplitudes\n",
    "wfn = WavefunctionSimulator().wavefunction(p)\n",
    "print(wfn)\n",
    "print()\n",
    "max_idx = np.argmax(np.abs(wfn.amplitudes))\n",
    "print(\"State with the highest magnitude is:\", np.binary_repr(max_idx, width=9))"
   ]
  },
  {
   "cell_type": "code",
   "execution_count": 113,
   "metadata": {
    "collapsed": false
   },
   "outputs": [
    {
     "data": {
      "text/plain": [
       "'0.1101'"
      ]
     },
     "execution_count": 113,
     "metadata": {},
     "output_type": "execute_result"
    }
   ],
   "source": [
    "qch.getBinFrac(-angles[min_place]/(2*np.pi), 4)"
   ]
  },
  {
   "cell_type": "code",
   "execution_count": 112,
   "metadata": {
    "collapsed": false
   },
   "outputs": [
    {
     "data": {
      "text/plain": [
       "-0.8703221261646437"
      ]
     },
     "execution_count": 112,
     "metadata": {},
     "output_type": "execute_result"
    }
   ],
   "source": [
    "angles[min_place]/(2*np.pi)"
   ]
  },
  {
   "cell_type": "code",
   "execution_count": null,
   "metadata": {
    "collapsed": true
   },
   "outputs": [],
   "source": []
  }
 ],
 "metadata": {
  "kernelspec": {
   "display_name": "Python 3",
   "language": "python",
   "name": "python3"
  },
  "language_info": {
   "codemirror_mode": {
    "name": "ipython",
    "version": 3
   },
   "file_extension": ".py",
   "mimetype": "text/x-python",
   "name": "python",
   "nbconvert_exporter": "python",
   "pygments_lexer": "ipython3",
   "version": "3.6.6"
  }
 },
 "nbformat": 4,
 "nbformat_minor": 2
}
